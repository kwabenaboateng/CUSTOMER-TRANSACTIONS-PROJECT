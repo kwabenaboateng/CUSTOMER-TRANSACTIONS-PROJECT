{
 "cells": [
  {
   "cell_type": "markdown",
   "id": "9835c07e",
   "metadata": {},
   "source": [
    "## Project Title: Customer Transactions\n",
    "\n",
    "#### Data Analysis by: Kwabena Boateng"
   ]
  },
  {
   "cell_type": "code",
   "execution_count": 1,
   "id": "2d9a89c2",
   "metadata": {},
   "outputs": [],
   "source": [
    "import numpy as np\n",
    "import pandas as pd\n",
    "import seaborn as sns\n",
    "import plotly.express as px\n",
    "import matplotlib.pyplot as plt\n",
    "\n",
    "from sklearn.preprocessing import LabelEncoder "
   ]
  },
  {
   "cell_type": "markdown",
   "id": "1e2c112e",
   "metadata": {},
   "source": [
    "### LOAD DATASET"
   ]
  },
  {
   "cell_type": "code",
   "execution_count": 2,
   "id": "c46a87fd",
   "metadata": {},
   "outputs": [
    {
     "data": {
      "text/html": [
       "<div>\n",
       "<style scoped>\n",
       "    .dataframe tbody tr th:only-of-type {\n",
       "        vertical-align: middle;\n",
       "    }\n",
       "\n",
       "    .dataframe tbody tr th {\n",
       "        vertical-align: top;\n",
       "    }\n",
       "\n",
       "    .dataframe thead th {\n",
       "        text-align: right;\n",
       "    }\n",
       "</style>\n",
       "<table border=\"1\" class=\"dataframe\">\n",
       "  <thead>\n",
       "    <tr style=\"text-align: right;\">\n",
       "      <th></th>\n",
       "      <th>Customer ID</th>\n",
       "      <th>Name</th>\n",
       "      <th>Surname</th>\n",
       "      <th>Gender</th>\n",
       "      <th>Birthdate</th>\n",
       "      <th>Transaction Amount</th>\n",
       "      <th>Date</th>\n",
       "      <th>Merchant Name</th>\n",
       "      <th>Category</th>\n",
       "    </tr>\n",
       "  </thead>\n",
       "  <tbody>\n",
       "    <tr>\n",
       "      <th>0</th>\n",
       "      <td>752858</td>\n",
       "      <td>Sean</td>\n",
       "      <td>Rodriguez</td>\n",
       "      <td>F</td>\n",
       "      <td>2002-10-20</td>\n",
       "      <td>35.47</td>\n",
       "      <td>2023-04-03</td>\n",
       "      <td>Smith-Russell</td>\n",
       "      <td>Cosmetic</td>\n",
       "    </tr>\n",
       "    <tr>\n",
       "      <th>1</th>\n",
       "      <td>26381</td>\n",
       "      <td>Michelle</td>\n",
       "      <td>Phelps</td>\n",
       "      <td>NaN</td>\n",
       "      <td>1985-10-24</td>\n",
       "      <td>2552.72</td>\n",
       "      <td>2023-07-17</td>\n",
       "      <td>Peck, Spence and Young</td>\n",
       "      <td>Travel</td>\n",
       "    </tr>\n",
       "    <tr>\n",
       "      <th>2</th>\n",
       "      <td>305449</td>\n",
       "      <td>Jacob</td>\n",
       "      <td>Williams</td>\n",
       "      <td>M</td>\n",
       "      <td>1981-10-25</td>\n",
       "      <td>115.97</td>\n",
       "      <td>2023-09-20</td>\n",
       "      <td>Steele Inc</td>\n",
       "      <td>Clothing</td>\n",
       "    </tr>\n",
       "    <tr>\n",
       "      <th>3</th>\n",
       "      <td>988259</td>\n",
       "      <td>Nathan</td>\n",
       "      <td>Snyder</td>\n",
       "      <td>M</td>\n",
       "      <td>1977-10-26</td>\n",
       "      <td>11.31</td>\n",
       "      <td>2023-01-11</td>\n",
       "      <td>Wilson, Wilson and Russell</td>\n",
       "      <td>Cosmetic</td>\n",
       "    </tr>\n",
       "    <tr>\n",
       "      <th>4</th>\n",
       "      <td>764762</td>\n",
       "      <td>Crystal</td>\n",
       "      <td>Knapp</td>\n",
       "      <td>F</td>\n",
       "      <td>1951-11-02</td>\n",
       "      <td>62.21</td>\n",
       "      <td>2023-06-13</td>\n",
       "      <td>Palmer-Hinton</td>\n",
       "      <td>Electronics</td>\n",
       "    </tr>\n",
       "    <tr>\n",
       "      <th>...</th>\n",
       "      <td>...</td>\n",
       "      <td>...</td>\n",
       "      <td>...</td>\n",
       "      <td>...</td>\n",
       "      <td>...</td>\n",
       "      <td>...</td>\n",
       "      <td>...</td>\n",
       "      <td>...</td>\n",
       "      <td>...</td>\n",
       "    </tr>\n",
       "    <tr>\n",
       "      <th>49995</th>\n",
       "      <td>891845</td>\n",
       "      <td>Christine</td>\n",
       "      <td>Leach</td>\n",
       "      <td>F</td>\n",
       "      <td>1997-10-21</td>\n",
       "      <td>108.74</td>\n",
       "      <td>2023-08-30</td>\n",
       "      <td>Alexander Ltd</td>\n",
       "      <td>Market</td>\n",
       "    </tr>\n",
       "    <tr>\n",
       "      <th>49996</th>\n",
       "      <td>800560</td>\n",
       "      <td>Anna</td>\n",
       "      <td>Allen</td>\n",
       "      <td>F</td>\n",
       "      <td>1999-10-21</td>\n",
       "      <td>133.66</td>\n",
       "      <td>2023-05-03</td>\n",
       "      <td>Knapp-Calhoun</td>\n",
       "      <td>Cosmetic</td>\n",
       "    </tr>\n",
       "    <tr>\n",
       "      <th>49997</th>\n",
       "      <td>133285</td>\n",
       "      <td>Nicole</td>\n",
       "      <td>Franklin</td>\n",
       "      <td>M</td>\n",
       "      <td>1979-10-26</td>\n",
       "      <td>464.29</td>\n",
       "      <td>2023-02-12</td>\n",
       "      <td>Cantrell, Haynes and Ballard</td>\n",
       "      <td>Market</td>\n",
       "    </tr>\n",
       "    <tr>\n",
       "      <th>49998</th>\n",
       "      <td>616122</td>\n",
       "      <td>Maria</td>\n",
       "      <td>Keller</td>\n",
       "      <td>M</td>\n",
       "      <td>1981-10-25</td>\n",
       "      <td>472.57</td>\n",
       "      <td>2023-03-25</td>\n",
       "      <td>Wilson, Jackson and Beard</td>\n",
       "      <td>Market</td>\n",
       "    </tr>\n",
       "    <tr>\n",
       "      <th>49999</th>\n",
       "      <td>832184</td>\n",
       "      <td>Billy</td>\n",
       "      <td>Walker</td>\n",
       "      <td>F</td>\n",
       "      <td>1958-10-31</td>\n",
       "      <td>270.67</td>\n",
       "      <td>2023-05-20</td>\n",
       "      <td>Combs LLC</td>\n",
       "      <td>Market</td>\n",
       "    </tr>\n",
       "  </tbody>\n",
       "</table>\n",
       "<p>50000 rows × 9 columns</p>\n",
       "</div>"
      ],
      "text/plain": [
       "       Customer ID       Name    Surname Gender   Birthdate  \\\n",
       "0           752858       Sean  Rodriguez      F  2002-10-20   \n",
       "1            26381   Michelle     Phelps    NaN  1985-10-24   \n",
       "2           305449      Jacob   Williams      M  1981-10-25   \n",
       "3           988259     Nathan     Snyder      M  1977-10-26   \n",
       "4           764762    Crystal      Knapp      F  1951-11-02   \n",
       "...            ...        ...        ...    ...         ...   \n",
       "49995       891845  Christine      Leach      F  1997-10-21   \n",
       "49996       800560       Anna      Allen      F  1999-10-21   \n",
       "49997       133285     Nicole   Franklin      M  1979-10-26   \n",
       "49998       616122      Maria     Keller      M  1981-10-25   \n",
       "49999       832184      Billy     Walker      F  1958-10-31   \n",
       "\n",
       "       Transaction Amount        Date                 Merchant Name  \\\n",
       "0                   35.47  2023-04-03                 Smith-Russell   \n",
       "1                 2552.72  2023-07-17        Peck, Spence and Young   \n",
       "2                  115.97  2023-09-20                    Steele Inc   \n",
       "3                   11.31  2023-01-11    Wilson, Wilson and Russell   \n",
       "4                   62.21  2023-06-13                 Palmer-Hinton   \n",
       "...                   ...         ...                           ...   \n",
       "49995              108.74  2023-08-30                 Alexander Ltd   \n",
       "49996              133.66  2023-05-03                 Knapp-Calhoun   \n",
       "49997              464.29  2023-02-12  Cantrell, Haynes and Ballard   \n",
       "49998              472.57  2023-03-25     Wilson, Jackson and Beard   \n",
       "49999              270.67  2023-05-20                     Combs LLC   \n",
       "\n",
       "          Category  \n",
       "0         Cosmetic  \n",
       "1           Travel  \n",
       "2         Clothing  \n",
       "3         Cosmetic  \n",
       "4      Electronics  \n",
       "...            ...  \n",
       "49995       Market  \n",
       "49996     Cosmetic  \n",
       "49997       Market  \n",
       "49998       Market  \n",
       "49999       Market  \n",
       "\n",
       "[50000 rows x 9 columns]"
      ]
     },
     "execution_count": 2,
     "metadata": {},
     "output_type": "execute_result"
    }
   ],
   "source": [
    "customer_transactions = pd.read_csv(\"C:/Users/KWABENABOATENG/Desktop/DATA ANALYSIS/PERSONAL/CUSTOMER TRANSACTIONS PROJECT/sample_dataset.csv\")\n",
    "\n",
    "customer_transactions"
   ]
  },
  {
   "cell_type": "markdown",
   "id": "58ff555f",
   "metadata": {},
   "source": [
    "### DATA UNDERSTANDING"
   ]
  },
  {
   "cell_type": "markdown",
   "id": "c476c90a",
   "metadata": {},
   "source": [
    "The dataset used for this project is stored in the data/ directory. The data consists of customer transaction records with the following columns:\n",
    "\n",
    "* customer_id: Unique identifier for each customer.\n",
    "* Name: First name of the customer.\n",
    "* Surname: Last name of the customer.\n",
    "* Gender: the sexual orientation of the customer.\n",
    "* Birthdate: the day, month and year the customer was born.\n",
    "* Transaction Amount: Amount of transaction made.\n",
    "* Date: Date of the transaction.\n",
    "* Merchant Name: the name of the merchant making the transactions.\n",
    "* Category: Product category."
   ]
  },
  {
   "cell_type": "markdown",
   "id": "4100d3d1",
   "metadata": {},
   "source": [
    "### DATA PREPARATION"
   ]
  },
  {
   "cell_type": "markdown",
   "id": "95cf1da4",
   "metadata": {},
   "source": [
    "#### CHECK NUMBER OF COLUMNS AND ROWS IN THE DATASET."
   ]
  },
  {
   "cell_type": "code",
   "execution_count": 3,
   "id": "550b2b1a",
   "metadata": {},
   "outputs": [
    {
     "name": "stdout",
     "output_type": "stream",
     "text": [
      "The number of rows and columns in this dataset is (50000, 9) respectively\n"
     ]
    }
   ],
   "source": [
    "print('The number of rows and columns in this dataset is', customer_transactions.shape, 'respectively')"
   ]
  },
  {
   "cell_type": "markdown",
   "id": "bceb7d9d",
   "metadata": {},
   "source": [
    "#### CHECK THE STRUCTURE OF THE DATASET"
   ]
  },
  {
   "cell_type": "code",
   "execution_count": 4,
   "id": "6975c674",
   "metadata": {},
   "outputs": [
    {
     "data": {
      "text/plain": [
       "Index(['Customer ID', 'Name', 'Surname', 'Gender', 'Birthdate',\n",
       "       'Transaction Amount', 'Date', 'Merchant Name', 'Category'],\n",
       "      dtype='object')"
      ]
     },
     "execution_count": 4,
     "metadata": {},
     "output_type": "execute_result"
    }
   ],
   "source": [
    "#Show all the names of the columns in this dataset.\n",
    "\n",
    "customer_transactions.columns"
   ]
  },
  {
   "cell_type": "code",
   "execution_count": 5,
   "id": "3150ff2c",
   "metadata": {},
   "outputs": [],
   "source": [
    "#Rename columns title.\n",
    "customer_transactions = customer_transactions.rename(columns={'Name': 'First Name', 'Surname': 'Last Name', 'Birthdate': 'Date of Birth'})"
   ]
  },
  {
   "cell_type": "code",
   "execution_count": 6,
   "id": "d427511b",
   "metadata": {},
   "outputs": [
    {
     "data": {
      "text/html": [
       "<div>\n",
       "<style scoped>\n",
       "    .dataframe tbody tr th:only-of-type {\n",
       "        vertical-align: middle;\n",
       "    }\n",
       "\n",
       "    .dataframe tbody tr th {\n",
       "        vertical-align: top;\n",
       "    }\n",
       "\n",
       "    .dataframe thead th {\n",
       "        text-align: right;\n",
       "    }\n",
       "</style>\n",
       "<table border=\"1\" class=\"dataframe\">\n",
       "  <thead>\n",
       "    <tr style=\"text-align: right;\">\n",
       "      <th></th>\n",
       "      <th>Customer ID</th>\n",
       "      <th>First Name</th>\n",
       "      <th>Last Name</th>\n",
       "      <th>Gender</th>\n",
       "      <th>Date of Birth</th>\n",
       "      <th>Transaction Amount</th>\n",
       "      <th>Date</th>\n",
       "      <th>Merchant Name</th>\n",
       "      <th>Category</th>\n",
       "    </tr>\n",
       "  </thead>\n",
       "  <tbody>\n",
       "    <tr>\n",
       "      <th>0</th>\n",
       "      <td>752858</td>\n",
       "      <td>Sean</td>\n",
       "      <td>Rodriguez</td>\n",
       "      <td>F</td>\n",
       "      <td>2002-10-20</td>\n",
       "      <td>35.47</td>\n",
       "      <td>2023-04-03</td>\n",
       "      <td>Smith-Russell</td>\n",
       "      <td>Cosmetic</td>\n",
       "    </tr>\n",
       "    <tr>\n",
       "      <th>1</th>\n",
       "      <td>26381</td>\n",
       "      <td>Michelle</td>\n",
       "      <td>Phelps</td>\n",
       "      <td>NaN</td>\n",
       "      <td>1985-10-24</td>\n",
       "      <td>2552.72</td>\n",
       "      <td>2023-07-17</td>\n",
       "      <td>Peck, Spence and Young</td>\n",
       "      <td>Travel</td>\n",
       "    </tr>\n",
       "    <tr>\n",
       "      <th>2</th>\n",
       "      <td>305449</td>\n",
       "      <td>Jacob</td>\n",
       "      <td>Williams</td>\n",
       "      <td>M</td>\n",
       "      <td>1981-10-25</td>\n",
       "      <td>115.97</td>\n",
       "      <td>2023-09-20</td>\n",
       "      <td>Steele Inc</td>\n",
       "      <td>Clothing</td>\n",
       "    </tr>\n",
       "    <tr>\n",
       "      <th>3</th>\n",
       "      <td>988259</td>\n",
       "      <td>Nathan</td>\n",
       "      <td>Snyder</td>\n",
       "      <td>M</td>\n",
       "      <td>1977-10-26</td>\n",
       "      <td>11.31</td>\n",
       "      <td>2023-01-11</td>\n",
       "      <td>Wilson, Wilson and Russell</td>\n",
       "      <td>Cosmetic</td>\n",
       "    </tr>\n",
       "    <tr>\n",
       "      <th>4</th>\n",
       "      <td>764762</td>\n",
       "      <td>Crystal</td>\n",
       "      <td>Knapp</td>\n",
       "      <td>F</td>\n",
       "      <td>1951-11-02</td>\n",
       "      <td>62.21</td>\n",
       "      <td>2023-06-13</td>\n",
       "      <td>Palmer-Hinton</td>\n",
       "      <td>Electronics</td>\n",
       "    </tr>\n",
       "  </tbody>\n",
       "</table>\n",
       "</div>"
      ],
      "text/plain": [
       "   Customer ID First Name  Last Name Gender Date of Birth  Transaction Amount  \\\n",
       "0       752858       Sean  Rodriguez      F    2002-10-20               35.47   \n",
       "1        26381   Michelle     Phelps    NaN    1985-10-24             2552.72   \n",
       "2       305449      Jacob   Williams      M    1981-10-25              115.97   \n",
       "3       988259     Nathan     Snyder      M    1977-10-26               11.31   \n",
       "4       764762    Crystal      Knapp      F    1951-11-02               62.21   \n",
       "\n",
       "         Date               Merchant Name     Category  \n",
       "0  2023-04-03               Smith-Russell     Cosmetic  \n",
       "1  2023-07-17      Peck, Spence and Young       Travel  \n",
       "2  2023-09-20                  Steele Inc     Clothing  \n",
       "3  2023-01-11  Wilson, Wilson and Russell     Cosmetic  \n",
       "4  2023-06-13               Palmer-Hinton  Electronics  "
      ]
     },
     "execution_count": 6,
     "metadata": {},
     "output_type": "execute_result"
    }
   ],
   "source": [
    "#top first (5)records of the dataset.\n",
    "\n",
    "customer_transactions.head()"
   ]
  },
  {
   "cell_type": "code",
   "execution_count": 7,
   "id": "fb930032",
   "metadata": {},
   "outputs": [
    {
     "name": "stdout",
     "output_type": "stream",
     "text": [
      "<class 'pandas.core.frame.DataFrame'>\n",
      "RangeIndex: 50000 entries, 0 to 49999\n",
      "Data columns (total 9 columns):\n",
      " #   Column              Non-Null Count  Dtype  \n",
      "---  ------              --------------  -----  \n",
      " 0   Customer ID         50000 non-null  int64  \n",
      " 1   First Name          50000 non-null  object \n",
      " 2   Last Name           50000 non-null  object \n",
      " 3   Gender              44953 non-null  object \n",
      " 4   Date of Birth       50000 non-null  object \n",
      " 5   Transaction Amount  50000 non-null  float64\n",
      " 6   Date                50000 non-null  object \n",
      " 7   Merchant Name       50000 non-null  object \n",
      " 8   Category            50000 non-null  object \n",
      "dtypes: float64(1), int64(1), object(7)\n",
      "memory usage: 3.4+ MB\n"
     ]
    }
   ],
   "source": [
    "customer_transactions.info()"
   ]
  },
  {
   "cell_type": "markdown",
   "id": "40ac1083",
   "metadata": {},
   "source": [
    "#### CHECK FOR MISSING VALUES"
   ]
  },
  {
   "cell_type": "code",
   "execution_count": 8,
   "id": "4270614e",
   "metadata": {},
   "outputs": [
    {
     "data": {
      "text/plain": [
       "Customer ID              0\n",
       "First Name               0\n",
       "Last Name                0\n",
       "Gender                5047\n",
       "Date of Birth            0\n",
       "Transaction Amount       0\n",
       "Date                     0\n",
       "Merchant Name            0\n",
       "Category                 0\n",
       "dtype: int64"
      ]
     },
     "execution_count": 8,
     "metadata": {},
     "output_type": "execute_result"
    }
   ],
   "source": [
    "customer_transactions.isna().sum()"
   ]
  },
  {
   "cell_type": "code",
   "execution_count": 10,
   "id": "3c66f285",
   "metadata": {},
   "outputs": [
    {
     "name": "stdout",
     "output_type": "stream",
     "text": [
      "The total number of missing values in this dataset is 5047\n"
     ]
    }
   ],
   "source": [
    "Total_MV = customer_transactions.isna().sum().sum()\n",
    "print('The total number of missing values in this dataset is', Total_MV)"
   ]
  },
  {
   "cell_type": "code",
   "execution_count": 11,
   "id": "1b9b64f7",
   "metadata": {},
   "outputs": [
    {
     "name": "stdout",
     "output_type": "stream",
     "text": [
      "Missing Gender Values: 5047 (10.09%)\n"
     ]
    }
   ],
   "source": [
    "#Check for the percentage for the missing values.\n",
    "\n",
    "missing_gender = customer_transactions['Gender'].isnull().sum()\n",
    "total_rows = len(customer_transactions)\n",
    "missing_percentage = (missing_gender / total_rows) * 100\n",
    "\n",
    "print(f\"Missing Gender Values: {missing_gender} ({missing_percentage:.2f}%)\")"
   ]
  },
  {
   "cell_type": "markdown",
   "id": "0f03256f",
   "metadata": {},
   "source": [
    "#### INSIGHTS\n",
    "\n",
    "The results showed that there are 5,047 missing values in the Gender column of the dataset. The percentage of the missing value sums up to 10.09% which is quite a huge percentage.\n",
    "\n",
    "\n",
    "In dealing with this, I will replace all the missing values in the gender column to UNDEFINED.\n",
    "\n",
    "This will presuppose that the sexual and gender orientation was not available for them to select, hence they left that field empty."
   ]
  },
  {
   "cell_type": "markdown",
   "id": "fc8b2a6b",
   "metadata": {},
   "source": [
    "#### DEALING WITH THE MISSING VALUES IN THE GENDER COLUMN"
   ]
  },
  {
   "cell_type": "code",
   "execution_count": 12,
   "id": "1f5dff3c",
   "metadata": {},
   "outputs": [
    {
     "data": {
      "text/plain": [
       "array(['F', nan, 'M'], dtype=object)"
      ]
     },
     "execution_count": 12,
     "metadata": {},
     "output_type": "execute_result"
    }
   ],
   "source": [
    "#Checking for the unique values in the Gender column.\n",
    "\n",
    "customer_transactions['Gender'].unique()"
   ]
  },
  {
   "cell_type": "code",
   "execution_count": 13,
   "id": "8aa1c649",
   "metadata": {},
   "outputs": [
    {
     "data": {
      "text/plain": [
       "Gender\n",
       "F    22713\n",
       "M    22240\n",
       "Name: count, dtype: int64"
      ]
     },
     "execution_count": 13,
     "metadata": {},
     "output_type": "execute_result"
    }
   ],
   "source": [
    "#Checking for the count of the unique values in the Gender column.\n",
    "\n",
    "customer_transactions['Gender'].value_counts()"
   ]
  },
  {
   "cell_type": "code",
   "execution_count": 14,
   "id": "a72e1abc",
   "metadata": {},
   "outputs": [],
   "source": [
    "#Replace missing values in the gender column with undefined.\n",
    "\n",
    "customer_transactions['Gender'].fillna('Undefined', inplace=True)"
   ]
  },
  {
   "cell_type": "code",
   "execution_count": 15,
   "id": "cd5e513c",
   "metadata": {},
   "outputs": [],
   "source": [
    "#Replace gender initials with the full word.\n",
    "\n",
    "customer_transactions['Gender'] = customer_transactions['Gender'].replace('M', 'Male')\n",
    "customer_transactions['Gender'] = customer_transactions['Gender'].replace('F', 'Female')"
   ]
  },
  {
   "cell_type": "code",
   "execution_count": 16,
   "id": "c92abd08",
   "metadata": {},
   "outputs": [
    {
     "data": {
      "text/plain": [
       "array(['Female', 'Undefined', 'Male'], dtype=object)"
      ]
     },
     "execution_count": 16,
     "metadata": {},
     "output_type": "execute_result"
    }
   ],
   "source": [
    "#Checking for the unique values in the Gender column after replacing the missing values and renaming the initials with full word.\n",
    "customer_transactions['Gender'].unique()"
   ]
  },
  {
   "cell_type": "markdown",
   "id": "57c0e006",
   "metadata": {},
   "source": [
    "#### CHECKING THE CATEGORY COLUMNS"
   ]
  },
  {
   "cell_type": "code",
   "execution_count": 17,
   "id": "87de0640",
   "metadata": {},
   "outputs": [
    {
     "data": {
      "text/plain": [
       "array(['Cosmetic', 'Travel', 'Clothing', 'Electronics', 'Restaurant',\n",
       "       'Market'], dtype=object)"
      ]
     },
     "execution_count": 17,
     "metadata": {},
     "output_type": "execute_result"
    }
   ],
   "source": [
    "customer_transactions['Category'].unique()"
   ]
  },
  {
   "cell_type": "code",
   "execution_count": 18,
   "id": "2368e082",
   "metadata": {},
   "outputs": [
    {
     "data": {
      "text/plain": [
       "Category\n",
       "Restaurant     8413\n",
       "Market         8382\n",
       "Travel         8377\n",
       "Electronics    8324\n",
       "Clothing       8261\n",
       "Cosmetic       8243\n",
       "Name: count, dtype: int64"
      ]
     },
     "execution_count": 18,
     "metadata": {},
     "output_type": "execute_result"
    }
   ],
   "source": [
    "customer_transactions['Category'].value_counts()"
   ]
  },
  {
   "cell_type": "markdown",
   "id": "404c36be",
   "metadata": {},
   "source": [
    "#### CHECK FOR DUPLICATE ROWS"
   ]
  },
  {
   "cell_type": "code",
   "execution_count": 19,
   "id": "a6b2ba10",
   "metadata": {},
   "outputs": [
    {
     "name": "stdout",
     "output_type": "stream",
     "text": [
      "The total number of duplicate rows in this dataset is 0\n"
     ]
    }
   ],
   "source": [
    "Total_dup = customer_transactions.duplicated().sum()\n",
    "print('The total number of duplicate rows in this dataset is', Total_dup)"
   ]
  },
  {
   "cell_type": "code",
   "execution_count": 20,
   "id": "a2c5ffda",
   "metadata": {},
   "outputs": [
    {
     "data": {
      "text/html": [
       "<div>\n",
       "<style scoped>\n",
       "    .dataframe tbody tr th:only-of-type {\n",
       "        vertical-align: middle;\n",
       "    }\n",
       "\n",
       "    .dataframe tbody tr th {\n",
       "        vertical-align: top;\n",
       "    }\n",
       "\n",
       "    .dataframe thead th {\n",
       "        text-align: right;\n",
       "    }\n",
       "</style>\n",
       "<table border=\"1\" class=\"dataframe\">\n",
       "  <thead>\n",
       "    <tr style=\"text-align: right;\">\n",
       "      <th></th>\n",
       "      <th>count</th>\n",
       "      <th>mean</th>\n",
       "      <th>std</th>\n",
       "      <th>min</th>\n",
       "      <th>25%</th>\n",
       "      <th>50%</th>\n",
       "      <th>75%</th>\n",
       "      <th>max</th>\n",
       "    </tr>\n",
       "  </thead>\n",
       "  <tbody>\n",
       "    <tr>\n",
       "      <th>Customer ID</th>\n",
       "      <td>50000.0</td>\n",
       "      <td>500136.796960</td>\n",
       "      <td>288232.431640</td>\n",
       "      <td>29.00</td>\n",
       "      <td>251191.5000</td>\n",
       "      <td>499520.500</td>\n",
       "      <td>749854.250</td>\n",
       "      <td>999997.00</td>\n",
       "    </tr>\n",
       "    <tr>\n",
       "      <th>Transaction Amount</th>\n",
       "      <td>50000.0</td>\n",
       "      <td>442.119239</td>\n",
       "      <td>631.669724</td>\n",
       "      <td>5.01</td>\n",
       "      <td>79.0075</td>\n",
       "      <td>182.195</td>\n",
       "      <td>470.515</td>\n",
       "      <td>2999.88</td>\n",
       "    </tr>\n",
       "  </tbody>\n",
       "</table>\n",
       "</div>"
      ],
      "text/plain": [
       "                      count           mean            std    min          25%  \\\n",
       "Customer ID         50000.0  500136.796960  288232.431640  29.00  251191.5000   \n",
       "Transaction Amount  50000.0     442.119239     631.669724   5.01      79.0075   \n",
       "\n",
       "                           50%         75%        max  \n",
       "Customer ID         499520.500  749854.250  999997.00  \n",
       "Transaction Amount     182.195     470.515    2999.88  "
      ]
     },
     "execution_count": 20,
     "metadata": {},
     "output_type": "execute_result"
    }
   ],
   "source": [
    "customer_transactions.describe().T"
   ]
  },
  {
   "cell_type": "code",
   "execution_count": 21,
   "id": "56e6493c",
   "metadata": {},
   "outputs": [
    {
     "data": {
      "text/html": [
       "<div>\n",
       "<style scoped>\n",
       "    .dataframe tbody tr th:only-of-type {\n",
       "        vertical-align: middle;\n",
       "    }\n",
       "\n",
       "    .dataframe tbody tr th {\n",
       "        vertical-align: top;\n",
       "    }\n",
       "\n",
       "    .dataframe thead th {\n",
       "        text-align: right;\n",
       "    }\n",
       "</style>\n",
       "<table border=\"1\" class=\"dataframe\">\n",
       "  <thead>\n",
       "    <tr style=\"text-align: right;\">\n",
       "      <th></th>\n",
       "      <th>count</th>\n",
       "      <th>unique</th>\n",
       "      <th>top</th>\n",
       "      <th>freq</th>\n",
       "    </tr>\n",
       "  </thead>\n",
       "  <tbody>\n",
       "    <tr>\n",
       "      <th>First Name</th>\n",
       "      <td>50000</td>\n",
       "      <td>690</td>\n",
       "      <td>Michael</td>\n",
       "      <td>1167</td>\n",
       "    </tr>\n",
       "    <tr>\n",
       "      <th>Last Name</th>\n",
       "      <td>50000</td>\n",
       "      <td>1000</td>\n",
       "      <td>Smith</td>\n",
       "      <td>1095</td>\n",
       "    </tr>\n",
       "    <tr>\n",
       "      <th>Gender</th>\n",
       "      <td>50000</td>\n",
       "      <td>3</td>\n",
       "      <td>Female</td>\n",
       "      <td>22713</td>\n",
       "    </tr>\n",
       "    <tr>\n",
       "      <th>Date of Birth</th>\n",
       "      <td>50000</td>\n",
       "      <td>58</td>\n",
       "      <td>1954-11-01</td>\n",
       "      <td>914</td>\n",
       "    </tr>\n",
       "    <tr>\n",
       "      <th>Date</th>\n",
       "      <td>50000</td>\n",
       "      <td>287</td>\n",
       "      <td>2023-06-30</td>\n",
       "      <td>200</td>\n",
       "    </tr>\n",
       "    <tr>\n",
       "      <th>Merchant Name</th>\n",
       "      <td>50000</td>\n",
       "      <td>36939</td>\n",
       "      <td>Smith Ltd</td>\n",
       "      <td>69</td>\n",
       "    </tr>\n",
       "    <tr>\n",
       "      <th>Category</th>\n",
       "      <td>50000</td>\n",
       "      <td>6</td>\n",
       "      <td>Restaurant</td>\n",
       "      <td>8413</td>\n",
       "    </tr>\n",
       "  </tbody>\n",
       "</table>\n",
       "</div>"
      ],
      "text/plain": [
       "               count unique         top   freq\n",
       "First Name     50000    690     Michael   1167\n",
       "Last Name      50000   1000       Smith   1095\n",
       "Gender         50000      3      Female  22713\n",
       "Date of Birth  50000     58  1954-11-01    914\n",
       "Date           50000    287  2023-06-30    200\n",
       "Merchant Name  50000  36939   Smith Ltd     69\n",
       "Category       50000      6  Restaurant   8413"
      ]
     },
     "execution_count": 21,
     "metadata": {},
     "output_type": "execute_result"
    }
   ],
   "source": [
    "customer_transactions.describe(include='object').T"
   ]
  },
  {
   "cell_type": "markdown",
   "id": "1dea944a",
   "metadata": {},
   "source": [
    "### EXPLORATORY DATA ANALYSIS, (E.D.A)"
   ]
  },
  {
   "cell_type": "markdown",
   "id": "24a731a5",
   "metadata": {},
   "source": [
    "#### MAKE A COPY OF THE ORIGINAL DATASET."
   ]
  },
  {
   "cell_type": "code",
   "execution_count": 22,
   "id": "ff6d5953",
   "metadata": {},
   "outputs": [],
   "source": [
    "customer_transactions_copy = customer_transactions.copy"
   ]
  },
  {
   "cell_type": "code",
   "execution_count": 23,
   "id": "6c312217",
   "metadata": {},
   "outputs": [],
   "source": [
    "Cols_drop = ['Customer ID', 'Last Name']\n",
    "customer_transactions = customer_transactions.drop(columns= Cols_drop)"
   ]
  },
  {
   "cell_type": "code",
   "execution_count": null,
   "id": "3a168177",
   "metadata": {
    "scrolled": false
   },
   "outputs": [],
   "source": [
    "customer_transactions.boxplot(figsize = (10,10))"
   ]
  },
  {
   "cell_type": "code",
   "execution_count": 25,
   "id": "685797f1",
   "metadata": {
    "scrolled": true
   },
   "outputs": [
    {
     "data": {
      "text/plain": [
       "array([[<AxesSubplot: title={'center': 'Transaction Amount'}>]],\n",
       "      dtype=object)"
      ]
     },
     "execution_count": 25,
     "metadata": {},
     "output_type": "execute_result"
    }
   ],
   "source": [
    "customer_transactions.hist()"
   ]
  },
  {
   "cell_type": "code",
   "execution_count": null,
   "id": "ab32eebb",
   "metadata": {
    "scrolled": true
   },
   "outputs": [],
   "source": [
    "# Sample data\n",
    "x = customer_transactions['Merchant Name']\n",
    "y = customer_transactions['Transaction Amount']\n",
    "\n",
    "# Create a scatterplot\n",
    "plt.scatter(x, y, label='Scatter Plot')\n",
    "\n",
    "# Add labels and a title\n",
    "plt.xlabel('X-axis')\n",
    "plt.ylabel('Y-axis')\n",
    "plt.title('Scatterplot Example')\n",
    "\n",
    "# Add a legend\n",
    "plt.legend()\n",
    "\n",
    "# Show the plot\n",
    "plt.show()\n"
   ]
  },
  {
   "cell_type": "code",
   "execution_count": null,
   "id": "767f8e97",
   "metadata": {},
   "outputs": [],
   "source": []
  },
  {
   "cell_type": "markdown",
   "id": "499c0572",
   "metadata": {},
   "source": [
    "### INSIGHTS TO BE DERIVED FROM THIS ANALYSIS"
   ]
  },
  {
   "cell_type": "markdown",
   "id": "77191dcd",
   "metadata": {},
   "source": [
    "#### QUESTIONS\n",
    " - What is the percentage for the various gender in the gender column? \n",
    " - What is the total amount generated by each category?\n",
    " - What is the total amount generated by the various gender in connection to the category?\n",
    " - What is the amount generated by each merchant.\n",
    " - The trend in the transactions"
   ]
  },
  {
   "cell_type": "markdown",
   "id": "26ccc455",
   "metadata": {},
   "source": [
    "#### QUESTION ONE\n",
    "\n",
    "###### - What is the percentage for the various gender in the gender column? "
   ]
  },
  {
   "cell_type": "code",
   "execution_count": null,
   "id": "9f48bed9",
   "metadata": {},
   "outputs": [],
   "source": [
    "#Get the value counts for each gender\n",
    "\n",
    "customer_transactions['Gender'].value_counts()"
   ]
  },
  {
   "cell_type": "code",
   "execution_count": null,
   "id": "6b41f106",
   "metadata": {},
   "outputs": [],
   "source": [
    "#Plot the above results into a pie chart.\n",
    "\n",
    "gender_counts = customer_transactions['Gender'].value_counts()\n",
    "\n",
    "total_count = len(customer_transactions)\n",
    "\n",
    "gender_percentages = (gender_counts / total_count) * 100\n",
    "\n",
    "\n",
    "# Create a pie chart\n",
    "plt.figure(figsize=(7, 7))\n",
    "\n",
    "plt.pie(gender_counts, labels=gender_counts.index, autopct='%1.1f%%', startangle=140)\n",
    "\n",
    "plt.title('Gender Distribution Percentage')\n",
    "\n",
    "# Add a legend\n",
    "plt.legend(gender_percentages.index, title=\"Gender Percentage\")\n",
    "\n",
    "plt.show()\n",
    "\n"
   ]
  },
  {
   "cell_type": "markdown",
   "id": "54daafcf",
   "metadata": {},
   "source": [
    "#### INSIGHTS\n",
    "\n",
    "There are six (6) categories in this dataset namely, Cosmetic, Travel, Clothing, Electronics, Restaurant and Market.\n",
    "\n",
    "Below are their outputs / results in descending order:\n",
    "\n",
    "- Restaurant  - 8413 - 16.8%\n",
    "- Market      - 8382 - 16.8%\n",
    "- Travel      - 8377 - 16.8%\n",
    "- Electronics - 8324 - 16.6%\n",
    "- Clothing    - 8261 - 16.5%\n",
    "- Cosmetic    - 8243 - 16.5%"
   ]
  },
  {
   "cell_type": "markdown",
   "id": "3c041689",
   "metadata": {},
   "source": [
    "#### QUESTION TWO\n",
    "\n",
    "###### - What is the total amount generated by each category? "
   ]
  },
  {
   "cell_type": "code",
   "execution_count": null,
   "id": "62a6ad3c",
   "metadata": {},
   "outputs": [],
   "source": [
    "# Calculate the total amount for each category\n",
    "category_totals = customer_transactions.groupby('Category')['Transaction Amount'].sum().reset_index()\n",
    "\n",
    "# Display the result\n",
    "print(category_totals)\n",
    "\n",
    "# Create a bar chart\n",
    "plt.figure(figsize=(10, 6))\n",
    "plt.bar(category_totals['Category'], category_totals['Transaction Amount'])\n",
    "plt.xlabel('Category')\n",
    "plt.ylabel('Transaction Amount')\n",
    "plt.title('Total Amount by Category')\n",
    "\n",
    "# Rotate the x-axis labels for better readability (optional)\n",
    "plt.xticks(rotation=45)\n",
    "\n",
    "plt.show()"
   ]
  },
  {
   "cell_type": "markdown",
   "id": "89ff0585",
   "metadata": {},
   "source": [
    "#### QUESTION THREE\n",
    "\n",
    "###### - What is the total amount generated by the various gender in connection to the category?"
   ]
  },
  {
   "cell_type": "code",
   "execution_count": null,
   "id": "469ced1e",
   "metadata": {},
   "outputs": [],
   "source": [
    "gender_category_totals = customer_transactions.groupby(['Gender', 'Category'])['Transaction Amount'].sum().reset_index()\n",
    "gender_category_totals "
   ]
  },
  {
   "cell_type": "code",
   "execution_count": null,
   "id": "13bed666",
   "metadata": {},
   "outputs": [],
   "source": [
    "# Set the figure size\n",
    "plt.figure(figsize=(14, 10))\n",
    "\n",
    "# Grouped bar chart\n",
    "category_names = gender_category_totals['Category'].unique()\n",
    "width = 0.30\n",
    "x = range(len(category_names))\n",
    "\n",
    "for i, gender in enumerate(gender_category_totals['Gender'].unique()):\n",
    "    gender_data = gender_category_totals[gender_category_totals['Gender'] == gender]\n",
    "    amounts = gender_data['Transaction Amount']\n",
    "    plt.bar([pos + i * width for pos in x], amounts, width, label=gender)\n",
    "\n",
    "plt.xlabel('Category')\n",
    "plt.ylabel('Total Amount')\n",
    "plt.title('Total Amount by Gender and Category')\n",
    "plt.xticks([pos + width for pos in x], category_names)\n",
    "plt.legend(title='Gender')\n",
    "\n",
    "# Rotate the x-axis labels for better readability (optional)\n",
    "plt.xticks(rotation=45)\n",
    "\n",
    "plt.show()"
   ]
  },
  {
   "cell_type": "markdown",
   "id": "a2b9f217",
   "metadata": {},
   "source": [
    "#### QUESTION FOUR\n",
    "\n",
    "###### - What is the amount generated by each merchant."
   ]
  },
  {
   "cell_type": "code",
   "execution_count": null,
   "id": "49075eb9",
   "metadata": {},
   "outputs": [],
   "source": [
    "merchant_totals = customer_transactions.groupby(['Merchant Name'])['Transaction Amount'].sum().reset_index()\n",
    "merchant_totals"
   ]
  },
  {
   "cell_type": "code",
   "execution_count": null,
   "id": "afaa1ef8",
   "metadata": {},
   "outputs": [],
   "source": []
  },
  {
   "cell_type": "code",
   "execution_count": null,
   "id": "c92122e8",
   "metadata": {},
   "outputs": [],
   "source": []
  },
  {
   "cell_type": "code",
   "execution_count": null,
   "id": "329e1a0f",
   "metadata": {},
   "outputs": [],
   "source": []
  },
  {
   "cell_type": "code",
   "execution_count": null,
   "id": "6d76db9b",
   "metadata": {},
   "outputs": [],
   "source": []
  },
  {
   "cell_type": "code",
   "execution_count": null,
   "id": "42ba6658",
   "metadata": {},
   "outputs": [],
   "source": []
  },
  {
   "cell_type": "code",
   "execution_count": null,
   "id": "8adac25d",
   "metadata": {},
   "outputs": [],
   "source": []
  },
  {
   "cell_type": "code",
   "execution_count": null,
   "id": "2ded7c1b",
   "metadata": {},
   "outputs": [],
   "source": []
  },
  {
   "cell_type": "code",
   "execution_count": null,
   "id": "95fcee8d",
   "metadata": {},
   "outputs": [],
   "source": []
  },
  {
   "cell_type": "markdown",
   "id": "695b7203",
   "metadata": {},
   "source": [
    "#### QUESTION FOUR\n",
    "\n",
    "###### - Which date had the highest transactions.\n"
   ]
  },
  {
   "cell_type": "code",
   "execution_count": null,
   "id": "0d904680",
   "metadata": {},
   "outputs": [],
   "source": [
    "customer_transactions['Date'] = pd.to_datetime(customer_transactions['Date'])"
   ]
  },
  {
   "cell_type": "code",
   "execution_count": null,
   "id": "91bebd7c",
   "metadata": {},
   "outputs": [],
   "source": [
    "customer_transactions.set_index('Date', inplace=True)"
   ]
  },
  {
   "cell_type": "code",
   "execution_count": null,
   "id": "131b6ce8",
   "metadata": {},
   "outputs": [],
   "source": [
    "date_min = customer_transactions['Date'].min()\n",
    "date_max = customer_transactions['Date'].max()"
   ]
  },
  {
   "cell_type": "code",
   "execution_count": null,
   "id": "6a41756e",
   "metadata": {},
   "outputs": [],
   "source": [
    "print(f\"Start Date: {date_min}\")\n",
    "print(f\"End Date: {date_max}\")"
   ]
  },
  {
   "cell_type": "code",
   "execution_count": null,
   "id": "c265000f",
   "metadata": {},
   "outputs": [],
   "source": [
    "resampled_data = customer_transactions.resample('D').sum()"
   ]
  },
  {
   "cell_type": "code",
   "execution_count": null,
   "id": "ad639827",
   "metadata": {},
   "outputs": [],
   "source": [
    "plt.figure(figsize=(10, 6))\n",
    "plt.plot(resampled_data.index, resampled_data['Transaction Amount'], marker='o')\n",
    "plt.title('Transaction Activity Over Time')\n",
    "plt.xlabel('Date')\n",
    "plt.ylabel('Transaction Amount')\n",
    "plt.grid(True)\n",
    "plt.show()"
   ]
  },
  {
   "cell_type": "code",
   "execution_count": null,
   "id": "5f1fac9b",
   "metadata": {},
   "outputs": [],
   "source": [
    "max_transaction_date = resampled_data.idxmax()\n",
    "max_transaction_count = resampled_data.max()\n",
    "\n",
    "print(\"Date with the highest transaction count:\", max_transaction_date['TransactionCount'])\n",
    "print(\"Highest transaction count:\", max_transaction_count['TransactionCount'])\n"
   ]
  },
  {
   "cell_type": "code",
   "execution_count": null,
   "id": "3e20de36",
   "metadata": {},
   "outputs": [],
   "source": []
  },
  {
   "cell_type": "code",
   "execution_count": null,
   "id": "c7994076",
   "metadata": {},
   "outputs": [],
   "source": []
  },
  {
   "cell_type": "code",
   "execution_count": null,
   "id": "fff86973",
   "metadata": {},
   "outputs": [],
   "source": []
  },
  {
   "cell_type": "code",
   "execution_count": null,
   "id": "c86c4f0a",
   "metadata": {},
   "outputs": [],
   "source": []
  },
  {
   "cell_type": "code",
   "execution_count": null,
   "id": "9241e82e",
   "metadata": {},
   "outputs": [],
   "source": [
    "#ax = sns.countplot(customer_transactions, x='Gender')\n",
    "\n",
    "#for bars in ax.containers:\n",
    "    \n",
    "      #ax.bar_label(bars)\n",
    "        \n",
    "#plt.title('Distribution of Gender')\n",
    "\n",
    "#plt.ylabel('Gender Count')\n",
    "\n",
    "#plt.show()"
   ]
  },
  {
   "cell_type": "code",
   "execution_count": null,
   "id": "51f47a05",
   "metadata": {},
   "outputs": [],
   "source": [
    "#gender_counts = customer_transactions['Gender'].value_counts()\n",
    "\n",
    "# Create a pie chart\n",
    "#plt.figure(figsize=(6, 6))\n",
    "#plt.pie(gender_counts, labels=gender_counts.index, autopct='%1.1f%%', startangle=90)\n",
    "\n",
    "# Add a title and legend\n",
    "#plt.title('Percentage of Gender Column')\n",
    "#plt.legend(gender_counts.index, loc='upper right', bbox_to_anchor=(1.2, 1))\n",
    "\n",
    "# Show the pie chart\n",
    "#plt.axis('equal')  # Equal aspect ratio ensures that pie is drawn as a circle.\n",
    "#plt.show()"
   ]
  },
  {
   "cell_type": "code",
   "execution_count": null,
   "id": "76346cbb",
   "metadata": {},
   "outputs": [],
   "source": []
  },
  {
   "cell_type": "code",
   "execution_count": null,
   "id": "ef9f30ea",
   "metadata": {},
   "outputs": [],
   "source": []
  },
  {
   "cell_type": "code",
   "execution_count": null,
   "id": "7e14ccdb",
   "metadata": {},
   "outputs": [],
   "source": []
  },
  {
   "cell_type": "markdown",
   "id": "0e4b7239",
   "metadata": {},
   "source": [
    "#### Total amount generated by each category"
   ]
  },
  {
   "cell_type": "code",
   "execution_count": null,
   "id": "2a2e8a05",
   "metadata": {},
   "outputs": [],
   "source": [
    "# Sample data representing customer transactions with categories and amounts\n",
    "#data = {\n",
    "   # \"Category\": [\"Electronics\", \"Clothing\", \"Electronics\", \"Clothing\", \"Books\", \"Books\"],\n",
    "   # \"Transaction Amount\": [1000, 500, 800, 300, 200, 150]\n",
    "#}\n",
    "\n",
    "# Create a DataFrame from the data\n",
    "customer_transactions = pd.DataFrame(customer_transactions)\n",
    "\n",
    "# Initialize an empty dictionary to store the total amount for each category\n",
    "category_totals = {}\n",
    "\n",
    "# Check the column names in the DataFrame\n",
    "print(customer_transactions.columns)\n",
    "\n",
    "# Calculate the total amount for each category\n",
    "for index, row in customer_transactions.iterrows():\n",
    "    category = [\"Category\"]  # Make sure \"Category\" is the correct column name\n",
    "    amount = [\"Transaction Amount\"]\n",
    "    # Check if the category is already in the dictionary, and if not, initialize it with the current amount\n",
    "    if category not in customer_transactions:\n",
    "        category_totals[Category] = amount\n",
    "    else:\n",
    "        # If the category is already in the dictionary, add the current amount to the existing total\n",
    "        category_totals[Category] += amount\n",
    "\n",
    "# Print the total amount for each category\n",
    "for category, total_amount in category_totals.items():\n",
    "    print(f\"Category: {category}, Total Amount: ${total_amount}\")\n"
   ]
  },
  {
   "cell_type": "code",
   "execution_count": null,
   "id": "2e6c0e99",
   "metadata": {},
   "outputs": [],
   "source": []
  },
  {
   "cell_type": "code",
   "execution_count": null,
   "id": "f46e425e",
   "metadata": {},
   "outputs": [],
   "source": []
  },
  {
   "cell_type": "code",
   "execution_count": null,
   "id": "01818963",
   "metadata": {},
   "outputs": [],
   "source": []
  },
  {
   "cell_type": "code",
   "execution_count": null,
   "id": "586a9636",
   "metadata": {},
   "outputs": [],
   "source": []
  },
  {
   "cell_type": "code",
   "execution_count": null,
   "id": "a3ea0178",
   "metadata": {},
   "outputs": [],
   "source": []
  },
  {
   "cell_type": "code",
   "execution_count": null,
   "id": "fa4163e5",
   "metadata": {},
   "outputs": [],
   "source": []
  },
  {
   "cell_type": "code",
   "execution_count": null,
   "id": "8d639d3e",
   "metadata": {},
   "outputs": [],
   "source": []
  },
  {
   "cell_type": "markdown",
   "id": "cbd28d55",
   "metadata": {},
   "source": [
    "#### SHOW A SUMMARY STATISTICS OF THE AGE GROUP IN THE DATASET"
   ]
  },
  {
   "cell_type": "code",
   "execution_count": null,
   "id": "fbec3346",
   "metadata": {},
   "outputs": [],
   "source": [
    "summary_stats = customer_transactions['Birthdate'].describe()\n",
    "print(summary_stats)"
   ]
  },
  {
   "cell_type": "markdown",
   "id": "7040da81",
   "metadata": {},
   "source": [
    "#### CONVERT THE BIRTHDATE INTO A DATETIME TO PLOT IT OUT AS A GRAPH"
   ]
  },
  {
   "cell_type": "code",
   "execution_count": null,
   "id": "ae487fce",
   "metadata": {},
   "outputs": [],
   "source": [
    "# Convert 'Birthdate' to datetime\n",
    "customer_transactions['Birthdate'] = pd.to_datetime(customer_transactions['Birthdate'])\n",
    "\n",
    "# Calculate age\n",
    "current_date = pd.Timestamp.now()\n",
    "\n",
    "customer_transactions['Age'] = (current_date - customer_transactions['Birthdate']).dt.days // 365  # Calculate age in years\n",
    "\n",
    "# Define age bins and labels\n",
    "age_bins = [20, 25, 30, 35, 40, 45, 50, 55, 60, 65, 70, 75, 80, 85, 90, 100]\n",
    "\n",
    "age_labels = ['21-25', '26-30', '31-35', '36-40', '41-45', '46-50', '51-55', '56-60', '61-65', '66-70', '71-75', '76-80', '81-85', '86-90', '91-95']\n",
    "\n",
    "# Apply age grouping\n",
    "customer_transactions['AgeGroup'] = pd.cut(customer_transactions['Age'], bins=age_bins, labels=age_labels, right=False)\n",
    "\n",
    "# Histogram\n",
    "plt.figure(figsize=(10, 8))\n",
    "\n",
    "sns.histplot(data=customer_transactions, x='AgeGroup', kde=True)\n",
    "\n",
    "plt.title('Age Distribution')\n",
    "\n",
    "plt.xlabel('Age Group')\n",
    "\n",
    "plt.ylabel('Frequency')\n",
    "\n",
    "plt.show()"
   ]
  },
  {
   "cell_type": "markdown",
   "id": "0836e7df",
   "metadata": {},
   "source": [
    "#### UNIVARIATE ANALYSIS"
   ]
  },
  {
   "cell_type": "code",
   "execution_count": null,
   "id": "529fbe12",
   "metadata": {},
   "outputs": [],
   "source": [
    "# Calculate the correlation coefficient\n",
    "#correlation = customer_transactions['AgeGroup'].corr(customer_transactions['Gender'])\n",
    "#print(f'Correlation coefficient: {correlation}')"
   ]
  },
  {
   "cell_type": "markdown",
   "id": "46417454",
   "metadata": {},
   "source": [
    "#### BIVARIATE ANALYSIS"
   ]
  },
  {
   "cell_type": "code",
   "execution_count": null,
   "id": "e07c4967",
   "metadata": {},
   "outputs": [],
   "source": [
    "#cross_tab = pd.crosstab(customer_transactions['Category'], customer_transactions['AgeGroup'])\n",
    "\n",
    "# Create a heatmap to visualize the cross-tabulation\n",
    "#plt.figure(figsize=(15, 8))\n",
    "\n",
    "#sns.heatmap(cross_tab, annot=True, fmt='d', cmap='YlGnBu', cbar=True)\n",
    "\n",
    "#plt.title('Bivariate Analysis: Age Group vs. Category')\n",
    "\n",
    "#plt.xlabel('Category')\n",
    "\n",
    "#plt.ylabel('Age Group')\n",
    "\n",
    "#plt.show()"
   ]
  },
  {
   "cell_type": "code",
   "execution_count": null,
   "id": "7e093ad4",
   "metadata": {},
   "outputs": [],
   "source": [
    "# Summary statistics\n",
    "#summary_stats = customer_transactions['Birthdate'].describe()\n",
    "#print(summary_stats)\n",
    "\n",
    "# Histogram\n",
    "#plt.figure(figsize=(8, 5))\n",
    "#sns.histplot(data=customer_transactions, x='Age', kde=True)\n",
    "#plt.title('Age Distribution')\n",
    "#plt.xlabel('Age')\n",
    "#plt.ylabel('Frequency')\n",
    "#plt.show()\n",
    "\n",
    "# Box plot\n",
    "#plt.figure(figsize=(10, 8))\n",
    "#sns.boxplot(data=customer_transactions['Birthdate'], x='Age')\n",
    "#plt.title('Box Plot of Age')\n",
    "#plt.xlabel('Age')\n",
    "#plt.show()"
   ]
  },
  {
   "cell_type": "code",
   "execution_count": null,
   "id": "52e7fbea",
   "metadata": {},
   "outputs": [],
   "source": []
  }
 ],
 "metadata": {
  "kernelspec": {
   "display_name": "Python 3 (ipykernel)",
   "language": "python",
   "name": "python3"
  },
  "language_info": {
   "codemirror_mode": {
    "name": "ipython",
    "version": 3
   },
   "file_extension": ".py",
   "mimetype": "text/x-python",
   "name": "python",
   "nbconvert_exporter": "python",
   "pygments_lexer": "ipython3",
   "version": "3.11.1"
  }
 },
 "nbformat": 4,
 "nbformat_minor": 5
}
