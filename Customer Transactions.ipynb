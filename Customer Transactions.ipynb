{
 "cells": [
  {
   "cell_type": "markdown",
   "id": "9835c07e",
   "metadata": {},
   "source": [
    "## Title: Customer Transactions\n",
    "\n",
    "#### Data Analyzed by: Kwabena Boateng"
   ]
  },
  {
   "cell_type": "code",
   "execution_count": 1,
   "id": "2d9a89c2",
   "metadata": {},
   "outputs": [],
   "source": [
    "import numpy as np\n",
    "import pandas as pd\n",
    "import seaborn as sns\n",
    "import plotly.express as px\n",
    "import matplotlib.pyplot as plt\n",
    "\n",
    "from sklearn.preprocessing import LabelEncoder"
   ]
  },
  {
   "cell_type": "markdown",
   "id": "1e2c112e",
   "metadata": {},
   "source": [
    "#### LOAD DATASET"
   ]
  },
  {
   "cell_type": "code",
   "execution_count": 2,
   "id": "c46a87fd",
   "metadata": {},
   "outputs": [
    {
     "data": {
      "text/html": [
       "<div>\n",
       "<style scoped>\n",
       "    .dataframe tbody tr th:only-of-type {\n",
       "        vertical-align: middle;\n",
       "    }\n",
       "\n",
       "    .dataframe tbody tr th {\n",
       "        vertical-align: top;\n",
       "    }\n",
       "\n",
       "    .dataframe thead th {\n",
       "        text-align: right;\n",
       "    }\n",
       "</style>\n",
       "<table border=\"1\" class=\"dataframe\">\n",
       "  <thead>\n",
       "    <tr style=\"text-align: right;\">\n",
       "      <th></th>\n",
       "      <th>Customer ID</th>\n",
       "      <th>Name</th>\n",
       "      <th>Surname</th>\n",
       "      <th>Gender</th>\n",
       "      <th>Birthdate</th>\n",
       "      <th>Transaction Amount</th>\n",
       "      <th>Date</th>\n",
       "      <th>Merchant Name</th>\n",
       "      <th>Category</th>\n",
       "    </tr>\n",
       "  </thead>\n",
       "  <tbody>\n",
       "    <tr>\n",
       "      <th>0</th>\n",
       "      <td>752858</td>\n",
       "      <td>Sean</td>\n",
       "      <td>Rodriguez</td>\n",
       "      <td>F</td>\n",
       "      <td>2002-10-20</td>\n",
       "      <td>35.47</td>\n",
       "      <td>2023-04-03</td>\n",
       "      <td>Smith-Russell</td>\n",
       "      <td>Cosmetic</td>\n",
       "    </tr>\n",
       "    <tr>\n",
       "      <th>1</th>\n",
       "      <td>26381</td>\n",
       "      <td>Michelle</td>\n",
       "      <td>Phelps</td>\n",
       "      <td>NaN</td>\n",
       "      <td>1985-10-24</td>\n",
       "      <td>2552.72</td>\n",
       "      <td>2023-07-17</td>\n",
       "      <td>Peck, Spence and Young</td>\n",
       "      <td>Travel</td>\n",
       "    </tr>\n",
       "    <tr>\n",
       "      <th>2</th>\n",
       "      <td>305449</td>\n",
       "      <td>Jacob</td>\n",
       "      <td>Williams</td>\n",
       "      <td>M</td>\n",
       "      <td>1981-10-25</td>\n",
       "      <td>115.97</td>\n",
       "      <td>2023-09-20</td>\n",
       "      <td>Steele Inc</td>\n",
       "      <td>Clothing</td>\n",
       "    </tr>\n",
       "    <tr>\n",
       "      <th>3</th>\n",
       "      <td>988259</td>\n",
       "      <td>Nathan</td>\n",
       "      <td>Snyder</td>\n",
       "      <td>M</td>\n",
       "      <td>1977-10-26</td>\n",
       "      <td>11.31</td>\n",
       "      <td>2023-01-11</td>\n",
       "      <td>Wilson, Wilson and Russell</td>\n",
       "      <td>Cosmetic</td>\n",
       "    </tr>\n",
       "    <tr>\n",
       "      <th>4</th>\n",
       "      <td>764762</td>\n",
       "      <td>Crystal</td>\n",
       "      <td>Knapp</td>\n",
       "      <td>F</td>\n",
       "      <td>1951-11-02</td>\n",
       "      <td>62.21</td>\n",
       "      <td>2023-06-13</td>\n",
       "      <td>Palmer-Hinton</td>\n",
       "      <td>Electronics</td>\n",
       "    </tr>\n",
       "  </tbody>\n",
       "</table>\n",
       "</div>"
      ],
      "text/plain": [
       "   Customer ID      Name    Surname Gender   Birthdate  Transaction Amount  \\\n",
       "0       752858      Sean  Rodriguez      F  2002-10-20               35.47   \n",
       "1        26381  Michelle     Phelps    NaN  1985-10-24             2552.72   \n",
       "2       305449     Jacob   Williams      M  1981-10-25              115.97   \n",
       "3       988259    Nathan     Snyder      M  1977-10-26               11.31   \n",
       "4       764762   Crystal      Knapp      F  1951-11-02               62.21   \n",
       "\n",
       "         Date               Merchant Name     Category  \n",
       "0  2023-04-03               Smith-Russell     Cosmetic  \n",
       "1  2023-07-17      Peck, Spence and Young       Travel  \n",
       "2  2023-09-20                  Steele Inc     Clothing  \n",
       "3  2023-01-11  Wilson, Wilson and Russell     Cosmetic  \n",
       "4  2023-06-13               Palmer-Hinton  Electronics  "
      ]
     },
     "execution_count": 2,
     "metadata": {},
     "output_type": "execute_result"
    }
   ],
   "source": [
    "customer_transactions = pd.read_csv(\"C:/Users/KWABENABOATENG/Desktop/DATA ANALYSIS/PERSONAL/CUSTOMER TRANSACTIONS PROJECT/sample_dataset.csv\")\n",
    "\n",
    "customer_transactions.head()"
   ]
  },
  {
   "cell_type": "markdown",
   "id": "58ff555f",
   "metadata": {},
   "source": [
    "#### DATA UNDERSTANDING AND PREPARATION"
   ]
  },
  {
   "cell_type": "code",
   "execution_count": 3,
   "id": "550b2b1a",
   "metadata": {},
   "outputs": [
    {
     "name": "stdout",
     "output_type": "stream",
     "text": [
      "The number of rows and columns in this dataset is (50000, 9) respectively\n"
     ]
    }
   ],
   "source": [
    "print('The number of rows and columns in this dataset is', customer_transactions.shape, 'respectively')"
   ]
  },
  {
   "cell_type": "markdown",
   "id": "bceb7d9d",
   "metadata": {},
   "source": [
    "#### THE OVERALL STRUCTURE OF THE DATASET"
   ]
  },
  {
   "cell_type": "code",
   "execution_count": 4,
   "id": "e3d42692",
   "metadata": {},
   "outputs": [
    {
     "name": "stdout",
     "output_type": "stream",
     "text": [
      "<class 'pandas.core.frame.DataFrame'>\n",
      "RangeIndex: 50000 entries, 0 to 49999\n",
      "Data columns (total 9 columns):\n",
      " #   Column              Non-Null Count  Dtype  \n",
      "---  ------              --------------  -----  \n",
      " 0   Customer ID         50000 non-null  int64  \n",
      " 1   Name                50000 non-null  object \n",
      " 2   Surname             50000 non-null  object \n",
      " 3   Gender              44953 non-null  object \n",
      " 4   Birthdate           50000 non-null  object \n",
      " 5   Transaction Amount  50000 non-null  float64\n",
      " 6   Date                50000 non-null  object \n",
      " 7   Merchant Name       50000 non-null  object \n",
      " 8   Category            50000 non-null  object \n",
      "dtypes: float64(1), int64(1), object(7)\n",
      "memory usage: 3.4+ MB\n"
     ]
    }
   ],
   "source": [
    "customer_transactions.info()"
   ]
  },
  {
   "cell_type": "markdown",
   "id": "40ac1083",
   "metadata": {},
   "source": [
    "#### CHECK FOR MISSING VALUES"
   ]
  },
  {
   "cell_type": "code",
   "execution_count": 5,
   "id": "4270614e",
   "metadata": {},
   "outputs": [
    {
     "data": {
      "text/plain": [
       "Customer ID              0\n",
       "Name                     0\n",
       "Surname                  0\n",
       "Gender                5047\n",
       "Birthdate                0\n",
       "Transaction Amount       0\n",
       "Date                     0\n",
       "Merchant Name            0\n",
       "Category                 0\n",
       "dtype: int64"
      ]
     },
     "execution_count": 5,
     "metadata": {},
     "output_type": "execute_result"
    }
   ],
   "source": [
    "customer_transactions.isna().sum()"
   ]
  },
  {
   "cell_type": "code",
   "execution_count": 6,
   "id": "3c66f285",
   "metadata": {},
   "outputs": [
    {
     "name": "stdout",
     "output_type": "stream",
     "text": [
      "The total number of missing values in this dataset is 5047\n"
     ]
    }
   ],
   "source": [
    "Total_MV = customer_transactions.isna().sum().sum()\n",
    "print('The total number of missing values in this dataset is', Total_MV)"
   ]
  },
  {
   "cell_type": "markdown",
   "id": "0f03256f",
   "metadata": {},
   "source": [
    "#### INSIGHTS\n",
    "\n",
    "From the above charts and results, it shows clearly that the Gender column is the only column with missing values."
   ]
  },
  {
   "cell_type": "markdown",
   "id": "404c36be",
   "metadata": {},
   "source": [
    "#### CHECK FOR DUPLICATE ROWS"
   ]
  },
  {
   "cell_type": "code",
   "execution_count": 7,
   "id": "a6b2ba10",
   "metadata": {},
   "outputs": [
    {
     "name": "stdout",
     "output_type": "stream",
     "text": [
      "The total number of duplicate rows in this dataset is 0\n"
     ]
    }
   ],
   "source": [
    "Total_dup = customer_transactions.duplicated().sum()\n",
    "print('The total number of duplicate rows in this dataset is', Total_dup)"
   ]
  },
  {
   "cell_type": "markdown",
   "id": "fc8b2a6b",
   "metadata": {},
   "source": [
    "#### DEALING WITH THE MISSING VALUES IN THE GENDER COLUMN"
   ]
  },
  {
   "cell_type": "code",
   "execution_count": 8,
   "id": "1b9b64f7",
   "metadata": {},
   "outputs": [
    {
     "name": "stdout",
     "output_type": "stream",
     "text": [
      "Missing Gender Values: 5047 (10.09%)\n"
     ]
    }
   ],
   "source": [
    "#Check for the percentage for the missing values.\n",
    "\n",
    "missing_gender = customer_transactions['Gender'].isnull().sum()\n",
    "total_rows = len(customer_transactions)\n",
    "missing_percentage = (missing_gender / total_rows) * 100\n",
    "\n",
    "print(f\"Missing Gender Values: {missing_gender} ({missing_percentage:.2f}%)\")"
   ]
  },
  {
   "cell_type": "markdown",
   "id": "da3b1e47",
   "metadata": {},
   "source": [
    "#### INSIGHTS\n",
    "\n",
    "Due to the percentage of the missing values in the Gender columns, we can't afford to delete those rows.\n",
    "We will rather replace the missing values with NOT SURE.\n",
    "This presupposes that these customers didn't have the option to select their preferred gender hence they left that field empty.\n",
    "After this, we can now encode our Gender column."
   ]
  },
  {
   "cell_type": "code",
   "execution_count": 9,
   "id": "a72e1abc",
   "metadata": {},
   "outputs": [],
   "source": [
    "customer_transactions['Gender'].fillna('Not Sure', inplace=True)"
   ]
  },
  {
   "cell_type": "code",
   "execution_count": 10,
   "id": "8d639d3e",
   "metadata": {},
   "outputs": [],
   "source": [
    "customer_transactions['Gender'] = customer_transactions['Gender'].replace('M', 'Male')\n",
    "customer_transactions['Gender'] = customer_transactions['Gender'].replace('F', 'Female')"
   ]
  },
  {
   "cell_type": "code",
   "execution_count": 11,
   "id": "d2464ca8",
   "metadata": {},
   "outputs": [
    {
     "data": {
      "text/html": [
       "<div>\n",
       "<style scoped>\n",
       "    .dataframe tbody tr th:only-of-type {\n",
       "        vertical-align: middle;\n",
       "    }\n",
       "\n",
       "    .dataframe tbody tr th {\n",
       "        vertical-align: top;\n",
       "    }\n",
       "\n",
       "    .dataframe thead th {\n",
       "        text-align: right;\n",
       "    }\n",
       "</style>\n",
       "<table border=\"1\" class=\"dataframe\">\n",
       "  <thead>\n",
       "    <tr style=\"text-align: right;\">\n",
       "      <th></th>\n",
       "      <th>Customer ID</th>\n",
       "      <th>Name</th>\n",
       "      <th>Surname</th>\n",
       "      <th>Gender</th>\n",
       "      <th>Birthdate</th>\n",
       "      <th>Transaction Amount</th>\n",
       "      <th>Date</th>\n",
       "      <th>Merchant Name</th>\n",
       "      <th>Category</th>\n",
       "    </tr>\n",
       "  </thead>\n",
       "  <tbody>\n",
       "    <tr>\n",
       "      <th>0</th>\n",
       "      <td>752858</td>\n",
       "      <td>Sean</td>\n",
       "      <td>Rodriguez</td>\n",
       "      <td>Female</td>\n",
       "      <td>2002-10-20</td>\n",
       "      <td>35.47</td>\n",
       "      <td>2023-04-03</td>\n",
       "      <td>Smith-Russell</td>\n",
       "      <td>Cosmetic</td>\n",
       "    </tr>\n",
       "    <tr>\n",
       "      <th>1</th>\n",
       "      <td>26381</td>\n",
       "      <td>Michelle</td>\n",
       "      <td>Phelps</td>\n",
       "      <td>Not Sure</td>\n",
       "      <td>1985-10-24</td>\n",
       "      <td>2552.72</td>\n",
       "      <td>2023-07-17</td>\n",
       "      <td>Peck, Spence and Young</td>\n",
       "      <td>Travel</td>\n",
       "    </tr>\n",
       "    <tr>\n",
       "      <th>2</th>\n",
       "      <td>305449</td>\n",
       "      <td>Jacob</td>\n",
       "      <td>Williams</td>\n",
       "      <td>Male</td>\n",
       "      <td>1981-10-25</td>\n",
       "      <td>115.97</td>\n",
       "      <td>2023-09-20</td>\n",
       "      <td>Steele Inc</td>\n",
       "      <td>Clothing</td>\n",
       "    </tr>\n",
       "    <tr>\n",
       "      <th>3</th>\n",
       "      <td>988259</td>\n",
       "      <td>Nathan</td>\n",
       "      <td>Snyder</td>\n",
       "      <td>Male</td>\n",
       "      <td>1977-10-26</td>\n",
       "      <td>11.31</td>\n",
       "      <td>2023-01-11</td>\n",
       "      <td>Wilson, Wilson and Russell</td>\n",
       "      <td>Cosmetic</td>\n",
       "    </tr>\n",
       "    <tr>\n",
       "      <th>4</th>\n",
       "      <td>764762</td>\n",
       "      <td>Crystal</td>\n",
       "      <td>Knapp</td>\n",
       "      <td>Female</td>\n",
       "      <td>1951-11-02</td>\n",
       "      <td>62.21</td>\n",
       "      <td>2023-06-13</td>\n",
       "      <td>Palmer-Hinton</td>\n",
       "      <td>Electronics</td>\n",
       "    </tr>\n",
       "  </tbody>\n",
       "</table>\n",
       "</div>"
      ],
      "text/plain": [
       "   Customer ID      Name    Surname    Gender   Birthdate  Transaction Amount  \\\n",
       "0       752858      Sean  Rodriguez    Female  2002-10-20               35.47   \n",
       "1        26381  Michelle     Phelps  Not Sure  1985-10-24             2552.72   \n",
       "2       305449     Jacob   Williams      Male  1981-10-25              115.97   \n",
       "3       988259    Nathan     Snyder      Male  1977-10-26               11.31   \n",
       "4       764762   Crystal      Knapp    Female  1951-11-02               62.21   \n",
       "\n",
       "         Date               Merchant Name     Category  \n",
       "0  2023-04-03               Smith-Russell     Cosmetic  \n",
       "1  2023-07-17      Peck, Spence and Young       Travel  \n",
       "2  2023-09-20                  Steele Inc     Clothing  \n",
       "3  2023-01-11  Wilson, Wilson and Russell     Cosmetic  \n",
       "4  2023-06-13               Palmer-Hinton  Electronics  "
      ]
     },
     "execution_count": 11,
     "metadata": {},
     "output_type": "execute_result"
    }
   ],
   "source": [
    "customer_transactions.head()"
   ]
  },
  {
   "cell_type": "markdown",
   "id": "1dea944a",
   "metadata": {},
   "source": [
    "#### EXPLORATORY DATA ANALYSIS, (E.D.A)\n",
    "\n",
    "#### MAKE A COPY OF THE ORIGINAL DATASET."
   ]
  },
  {
   "cell_type": "code",
   "execution_count": 12,
   "id": "77dc60e7",
   "metadata": {},
   "outputs": [
    {
     "data": {
      "text/html": [
       "<div>\n",
       "<style scoped>\n",
       "    .dataframe tbody tr th:only-of-type {\n",
       "        vertical-align: middle;\n",
       "    }\n",
       "\n",
       "    .dataframe tbody tr th {\n",
       "        vertical-align: top;\n",
       "    }\n",
       "\n",
       "    .dataframe thead th {\n",
       "        text-align: right;\n",
       "    }\n",
       "</style>\n",
       "<table border=\"1\" class=\"dataframe\">\n",
       "  <thead>\n",
       "    <tr style=\"text-align: right;\">\n",
       "      <th></th>\n",
       "      <th>count</th>\n",
       "      <th>mean</th>\n",
       "      <th>std</th>\n",
       "      <th>min</th>\n",
       "      <th>25%</th>\n",
       "      <th>50%</th>\n",
       "      <th>75%</th>\n",
       "      <th>max</th>\n",
       "    </tr>\n",
       "  </thead>\n",
       "  <tbody>\n",
       "    <tr>\n",
       "      <th>Customer ID</th>\n",
       "      <td>50000.0</td>\n",
       "      <td>500136.796960</td>\n",
       "      <td>288232.431640</td>\n",
       "      <td>29.00</td>\n",
       "      <td>251191.5000</td>\n",
       "      <td>499520.500</td>\n",
       "      <td>749854.250</td>\n",
       "      <td>999997.00</td>\n",
       "    </tr>\n",
       "    <tr>\n",
       "      <th>Transaction Amount</th>\n",
       "      <td>50000.0</td>\n",
       "      <td>442.119239</td>\n",
       "      <td>631.669724</td>\n",
       "      <td>5.01</td>\n",
       "      <td>79.0075</td>\n",
       "      <td>182.195</td>\n",
       "      <td>470.515</td>\n",
       "      <td>2999.88</td>\n",
       "    </tr>\n",
       "  </tbody>\n",
       "</table>\n",
       "</div>"
      ],
      "text/plain": [
       "                      count           mean            std    min          25%  \\\n",
       "Customer ID         50000.0  500136.796960  288232.431640  29.00  251191.5000   \n",
       "Transaction Amount  50000.0     442.119239     631.669724   5.01      79.0075   \n",
       "\n",
       "                           50%         75%        max  \n",
       "Customer ID         499520.500  749854.250  999997.00  \n",
       "Transaction Amount     182.195     470.515    2999.88  "
      ]
     },
     "execution_count": 12,
     "metadata": {},
     "output_type": "execute_result"
    }
   ],
   "source": [
    "customer_transactions.describe().T"
   ]
  },
  {
   "cell_type": "code",
   "execution_count": 13,
   "id": "5a918d14",
   "metadata": {},
   "outputs": [
    {
     "data": {
      "text/html": [
       "<div>\n",
       "<style scoped>\n",
       "    .dataframe tbody tr th:only-of-type {\n",
       "        vertical-align: middle;\n",
       "    }\n",
       "\n",
       "    .dataframe tbody tr th {\n",
       "        vertical-align: top;\n",
       "    }\n",
       "\n",
       "    .dataframe thead th {\n",
       "        text-align: right;\n",
       "    }\n",
       "</style>\n",
       "<table border=\"1\" class=\"dataframe\">\n",
       "  <thead>\n",
       "    <tr style=\"text-align: right;\">\n",
       "      <th></th>\n",
       "      <th>count</th>\n",
       "      <th>unique</th>\n",
       "      <th>top</th>\n",
       "      <th>freq</th>\n",
       "    </tr>\n",
       "  </thead>\n",
       "  <tbody>\n",
       "    <tr>\n",
       "      <th>Name</th>\n",
       "      <td>50000</td>\n",
       "      <td>690</td>\n",
       "      <td>Michael</td>\n",
       "      <td>1167</td>\n",
       "    </tr>\n",
       "    <tr>\n",
       "      <th>Surname</th>\n",
       "      <td>50000</td>\n",
       "      <td>1000</td>\n",
       "      <td>Smith</td>\n",
       "      <td>1095</td>\n",
       "    </tr>\n",
       "    <tr>\n",
       "      <th>Gender</th>\n",
       "      <td>50000</td>\n",
       "      <td>3</td>\n",
       "      <td>Female</td>\n",
       "      <td>22713</td>\n",
       "    </tr>\n",
       "    <tr>\n",
       "      <th>Birthdate</th>\n",
       "      <td>50000</td>\n",
       "      <td>58</td>\n",
       "      <td>1954-11-01</td>\n",
       "      <td>914</td>\n",
       "    </tr>\n",
       "    <tr>\n",
       "      <th>Date</th>\n",
       "      <td>50000</td>\n",
       "      <td>287</td>\n",
       "      <td>2023-06-30</td>\n",
       "      <td>200</td>\n",
       "    </tr>\n",
       "    <tr>\n",
       "      <th>Merchant Name</th>\n",
       "      <td>50000</td>\n",
       "      <td>36939</td>\n",
       "      <td>Smith Ltd</td>\n",
       "      <td>69</td>\n",
       "    </tr>\n",
       "    <tr>\n",
       "      <th>Category</th>\n",
       "      <td>50000</td>\n",
       "      <td>6</td>\n",
       "      <td>Restaurant</td>\n",
       "      <td>8413</td>\n",
       "    </tr>\n",
       "  </tbody>\n",
       "</table>\n",
       "</div>"
      ],
      "text/plain": [
       "               count unique         top   freq\n",
       "Name           50000    690     Michael   1167\n",
       "Surname        50000   1000       Smith   1095\n",
       "Gender         50000      3      Female  22713\n",
       "Birthdate      50000     58  1954-11-01    914\n",
       "Date           50000    287  2023-06-30    200\n",
       "Merchant Name  50000  36939   Smith Ltd     69\n",
       "Category       50000      6  Restaurant   8413"
      ]
     },
     "execution_count": 13,
     "metadata": {},
     "output_type": "execute_result"
    }
   ],
   "source": [
    "customer_transactions.describe(include='object').T"
   ]
  },
  {
   "cell_type": "code",
   "execution_count": 14,
   "id": "637485b3",
   "metadata": {},
   "outputs": [],
   "source": [
    "customer_transactions_copy = customer_transactions.copy"
   ]
  },
  {
   "cell_type": "code",
   "execution_count": 15,
   "id": "dc490d7c",
   "metadata": {},
   "outputs": [],
   "source": [
    "Cols_drop = ['Customer ID', 'Surname']\n",
    "customer_transactions = customer_transactions.drop(columns= Cols_drop)"
   ]
  },
  {
   "cell_type": "code",
   "execution_count": 16,
   "id": "aba3bb21",
   "metadata": {},
   "outputs": [
    {
     "data": {
      "text/html": [
       "<div>\n",
       "<style scoped>\n",
       "    .dataframe tbody tr th:only-of-type {\n",
       "        vertical-align: middle;\n",
       "    }\n",
       "\n",
       "    .dataframe tbody tr th {\n",
       "        vertical-align: top;\n",
       "    }\n",
       "\n",
       "    .dataframe thead th {\n",
       "        text-align: right;\n",
       "    }\n",
       "</style>\n",
       "<table border=\"1\" class=\"dataframe\">\n",
       "  <thead>\n",
       "    <tr style=\"text-align: right;\">\n",
       "      <th></th>\n",
       "      <th>Name</th>\n",
       "      <th>Gender</th>\n",
       "      <th>Birthdate</th>\n",
       "      <th>Transaction Amount</th>\n",
       "      <th>Date</th>\n",
       "      <th>Merchant Name</th>\n",
       "      <th>Category</th>\n",
       "    </tr>\n",
       "  </thead>\n",
       "  <tbody>\n",
       "    <tr>\n",
       "      <th>0</th>\n",
       "      <td>Sean</td>\n",
       "      <td>Female</td>\n",
       "      <td>2002-10-20</td>\n",
       "      <td>35.47</td>\n",
       "      <td>2023-04-03</td>\n",
       "      <td>Smith-Russell</td>\n",
       "      <td>Cosmetic</td>\n",
       "    </tr>\n",
       "    <tr>\n",
       "      <th>1</th>\n",
       "      <td>Michelle</td>\n",
       "      <td>Not Sure</td>\n",
       "      <td>1985-10-24</td>\n",
       "      <td>2552.72</td>\n",
       "      <td>2023-07-17</td>\n",
       "      <td>Peck, Spence and Young</td>\n",
       "      <td>Travel</td>\n",
       "    </tr>\n",
       "    <tr>\n",
       "      <th>2</th>\n",
       "      <td>Jacob</td>\n",
       "      <td>Male</td>\n",
       "      <td>1981-10-25</td>\n",
       "      <td>115.97</td>\n",
       "      <td>2023-09-20</td>\n",
       "      <td>Steele Inc</td>\n",
       "      <td>Clothing</td>\n",
       "    </tr>\n",
       "    <tr>\n",
       "      <th>3</th>\n",
       "      <td>Nathan</td>\n",
       "      <td>Male</td>\n",
       "      <td>1977-10-26</td>\n",
       "      <td>11.31</td>\n",
       "      <td>2023-01-11</td>\n",
       "      <td>Wilson, Wilson and Russell</td>\n",
       "      <td>Cosmetic</td>\n",
       "    </tr>\n",
       "    <tr>\n",
       "      <th>4</th>\n",
       "      <td>Crystal</td>\n",
       "      <td>Female</td>\n",
       "      <td>1951-11-02</td>\n",
       "      <td>62.21</td>\n",
       "      <td>2023-06-13</td>\n",
       "      <td>Palmer-Hinton</td>\n",
       "      <td>Electronics</td>\n",
       "    </tr>\n",
       "  </tbody>\n",
       "</table>\n",
       "</div>"
      ],
      "text/plain": [
       "       Name    Gender   Birthdate  Transaction Amount        Date  \\\n",
       "0      Sean    Female  2002-10-20               35.47  2023-04-03   \n",
       "1  Michelle  Not Sure  1985-10-24             2552.72  2023-07-17   \n",
       "2     Jacob      Male  1981-10-25              115.97  2023-09-20   \n",
       "3    Nathan      Male  1977-10-26               11.31  2023-01-11   \n",
       "4   Crystal    Female  1951-11-02               62.21  2023-06-13   \n",
       "\n",
       "                Merchant Name     Category  \n",
       "0               Smith-Russell     Cosmetic  \n",
       "1      Peck, Spence and Young       Travel  \n",
       "2                  Steele Inc     Clothing  \n",
       "3  Wilson, Wilson and Russell     Cosmetic  \n",
       "4               Palmer-Hinton  Electronics  "
      ]
     },
     "execution_count": 16,
     "metadata": {},
     "output_type": "execute_result"
    }
   ],
   "source": [
    "customer_transactions.head()"
   ]
  },
  {
   "cell_type": "markdown",
   "id": "0c7421be",
   "metadata": {},
   "source": [
    "#### PLOT A GRAPH FOR THE VARIOUS GENDER"
   ]
  },
  {
   "cell_type": "code",
   "execution_count": 17,
   "id": "9741186f",
   "metadata": {},
   "outputs": [
    {
     "data": {
      "image/png": "[encoded data removed]",
      "text/plain": [
       "<Figure size 640x480 with 1 Axes>"
      ]
     },
     "metadata": {},
     "output_type": "display_data"
    }
   ],
   "source": [
    "ax = sns.countplot(customer_transactions, x='Gender')\n",
    "\n",
    "for bars in ax.containers:\n",
    "    \n",
    "      ax.bar_label(bars)\n",
    "        \n",
    "plt.title('Distribution of Gender')\n",
    "\n",
    "plt.ylabel('Gender Count')\n",
    "\n",
    "plt.show()"
   ]
  },
  {
   "cell_type": "code",
   "execution_count": null,
   "id": "44679cb9",
   "metadata": {},
   "outputs": [],
   "source": []
  },
  {
   "cell_type": "code",
   "execution_count": 18,
   "id": "4b47e45a",
   "metadata": {},
   "outputs": [
    {
     "data": {
      "image/png": "[encoded data removed]",
      "text/plain": [
       "<Figure size 640x480 with 1 Axes>"
      ]
     },
     "metadata": {},
     "output_type": "display_data"
    }
   ],
   "source": [
    "ax = sns.countplot(customer_transactions, x='Category')\n",
    "\n",
    "for bars in ax.containers:\n",
    "    \n",
    "      ax.bar_label(bars)\n",
    "        \n",
    "plt.title('Distribution of Merchant Categories')\n",
    "\n",
    "plt.ylabel('Category Count')\n",
    "\n",
    "plt.show()"
   ]
  },
  {
   "cell_type": "markdown",
   "id": "cbd28d55",
   "metadata": {},
   "source": [
    "#### SHOW A SUMMARY STATISTICS OF THE AGE GROUP IN THE DATASET"
   ]
  },
  {
   "cell_type": "code",
   "execution_count": 19,
   "id": "fbec3346",
   "metadata": {},
   "outputs": [
    {
     "name": "stdout",
     "output_type": "stream",
     "text": [
      "count          50000\n",
      "unique            58\n",
      "top       1954-11-01\n",
      "freq             914\n",
      "Name: Birthdate, dtype: object\n"
     ]
    }
   ],
   "source": [
    "summary_stats = customer_transactions['Birthdate'].describe()\n",
    "print(summary_stats)"
   ]
  },
  {
   "cell_type": "code",
   "execution_count": null,
   "id": "3d4b17b5",
   "metadata": {},
   "outputs": [],
   "source": []
  },
  {
   "cell_type": "markdown",
   "id": "7040da81",
   "metadata": {},
   "source": [
    "#### CONVERT THE BIRTHDATE INTO A DATETIME TO PLOT IT OUT AS A GRAPH"
   ]
  },
  {
   "cell_type": "code",
   "execution_count": 20,
   "id": "ae487fce",
   "metadata": {},
   "outputs": [
    {
     "data": {
      "image/png": "[encoded data removed]",
      "text/plain": [
       "<Figure size 1800x1000 with 1 Axes>"
      ]
     },
     "metadata": {},
     "output_type": "display_data"
    }
   ],
   "source": [
    "# Convert 'Birthdate' to datetime\n",
    "customer_transactions['Birthdate'] = pd.to_datetime(customer_transactions['Birthdate'])\n",
    "\n",
    "# Calculate age\n",
    "current_date = pd.Timestamp.now()\n",
    "\n",
    "customer_transactions['Age'] = (current_date - customer_transactions['Birthdate']).dt.days // 365  # Calculate age in years\n",
    "\n",
    "# Define age bins and labels\n",
    "age_bins = [20, 25, 30, 35, 40, 45, 50, 55, 60, 65, 70, 75, 80, 85, 90, 100]\n",
    "\n",
    "age_labels = ['21-25', '26-30', '31-35', '36-40', '41-45', '46-50', '51-55', '56-60', '61-65', '66-70', '71-75', '76-80', '81-85', '86-90', '91-95']\n",
    "\n",
    "# Apply age grouping\n",
    "customer_transactions['AgeGroup'] = pd.cut(customer_transactions['Age'], bins=age_bins, labels=age_labels, right=False)\n",
    "\n",
    "# Histogram\n",
    "plt.figure(figsize=(18, 10))\n",
    "\n",
    "sns.histplot(data=customer_transactions, x='AgeGroup', kde=True)\n",
    "\n",
    "plt.title('Age Distribution')\n",
    "\n",
    "plt.xlabel('Age Group')\n",
    "\n",
    "plt.ylabel('Frequency')\n",
    "\n",
    "plt.show()"
   ]
  },
  {
   "cell_type": "markdown",
   "id": "0836e7df",
   "metadata": {},
   "source": [
    "#### UNIVARIATE ANALYSIS"
   ]
  },
  {
   "cell_type": "code",
   "execution_count": null,
   "id": "607a81a8",
   "metadata": {},
   "outputs": [],
   "source": [
    "# Create a scatter plot\n",
    "\n",
    "#plt.scatter(customer_transactions['Date'], customer_transactions['AgeGroup'])\n",
    "#plt.xlabel('Gender')\n",
    "\n",
    "#plt.ylabel('AgeGroup')\n",
    "#plt.title('Scatter Plot of Variable1 vs. Variable2')\n",
    "#plt.show()"
   ]
  },
  {
   "cell_type": "code",
   "execution_count": null,
   "id": "529fbe12",
   "metadata": {},
   "outputs": [],
   "source": [
    "# Calculate the correlation coefficient\n",
    "correlation = customer_transactions['AgeGroup'].corr(customer_transactions['Gender'])\n",
    "print(f'Correlation coefficient: {correlation}')"
   ]
  },
  {
   "cell_type": "code",
   "execution_count": null,
   "id": "9b5a48bf",
   "metadata": {},
   "outputs": [],
   "source": []
  },
  {
   "cell_type": "code",
   "execution_count": null,
   "id": "dbca3ce5",
   "metadata": {},
   "outputs": [],
   "source": []
  },
  {
   "cell_type": "code",
   "execution_count": null,
   "id": "e07c4967",
   "metadata": {},
   "outputs": [],
   "source": []
  },
  {
   "cell_type": "code",
   "execution_count": null,
   "id": "50ff48b2",
   "metadata": {},
   "outputs": [],
   "source": []
  },
  {
   "cell_type": "code",
   "execution_count": null,
   "id": "ae5ced6a",
   "metadata": {},
   "outputs": [],
   "source": []
  },
  {
   "cell_type": "code",
   "execution_count": null,
   "id": "5f067e9f",
   "metadata": {},
   "outputs": [],
   "source": []
  },
  {
   "cell_type": "code",
   "execution_count": null,
   "id": "8677cf50",
   "metadata": {},
   "outputs": [],
   "source": []
  },
  {
   "cell_type": "code",
   "execution_count": null,
   "id": "163e63d3",
   "metadata": {},
   "outputs": [],
   "source": []
  },
  {
   "cell_type": "code",
   "execution_count": null,
   "id": "9c6b3f26",
   "metadata": {},
   "outputs": [],
   "source": []
  },
  {
   "cell_type": "code",
   "execution_count": null,
   "id": "1ac648f3",
   "metadata": {},
   "outputs": [],
   "source": []
  },
  {
   "cell_type": "code",
   "execution_count": null,
   "id": "b617a338",
   "metadata": {},
   "outputs": [],
   "source": []
  },
  {
   "cell_type": "code",
   "execution_count": null,
   "id": "bd38351c",
   "metadata": {},
   "outputs": [],
   "source": []
  },
  {
   "cell_type": "code",
   "execution_count": null,
   "id": "e14cfad3",
   "metadata": {},
   "outputs": [],
   "source": []
  },
  {
   "cell_type": "code",
   "execution_count": null,
   "id": "9e0c2980",
   "metadata": {},
   "outputs": [],
   "source": []
  },
  {
   "cell_type": "code",
   "execution_count": null,
   "id": "7a5b3b6f",
   "metadata": {},
   "outputs": [],
   "source": []
  },
  {
   "cell_type": "code",
   "execution_count": null,
   "id": "855713d6",
   "metadata": {},
   "outputs": [],
   "source": []
  },
  {
   "cell_type": "code",
   "execution_count": null,
   "id": "92f6ec77",
   "metadata": {},
   "outputs": [],
   "source": []
  },
  {
   "cell_type": "code",
   "execution_count": null,
   "id": "5ac4e49e",
   "metadata": {},
   "outputs": [],
   "source": []
  },
  {
   "cell_type": "code",
   "execution_count": null,
   "id": "4d07a035",
   "metadata": {},
   "outputs": [],
   "source": []
  },
  {
   "cell_type": "code",
   "execution_count": null,
   "id": "de3a02ef",
   "metadata": {},
   "outputs": [],
   "source": []
  },
  {
   "cell_type": "code",
   "execution_count": null,
   "id": "116c735c",
   "metadata": {},
   "outputs": [],
   "source": []
  },
  {
   "cell_type": "code",
   "execution_count": null,
   "id": "c7232b30",
   "metadata": {},
   "outputs": [],
   "source": []
  },
  {
   "cell_type": "code",
   "execution_count": null,
   "id": "7e093ad4",
   "metadata": {},
   "outputs": [],
   "source": [
    "# Summary statistics\n",
    "summary_stats = customer_transactions['Birthdate'].describe()\n",
    "print(summary_stats)\n",
    "\n",
    "# Histogram\n",
    "plt.figure(figsize=(8, 5))\n",
    "sns.histplot(data=customer_transactions, x='Age', kde=True)\n",
    "plt.title('Age Distribution')\n",
    "plt.xlabel('Age')\n",
    "plt.ylabel('Frequency')\n",
    "plt.show()\n",
    "\n",
    "# Box plot\n",
    "plt.figure(figsize=(10, 8))\n",
    "sns.boxplot(data=customer_transactions['Birthdate'], x='Age')\n",
    "plt.title('Box Plot of Age')\n",
    "plt.xlabel('Age')\n",
    "plt.show()"
   ]
  },
  {
   "cell_type": "code",
   "execution_count": null,
   "id": "52e7fbea",
   "metadata": {},
   "outputs": [],
   "source": []
  },
  {
   "cell_type": "code",
   "execution_count": null,
   "id": "b5b6e00f",
   "metadata": {},
   "outputs": [],
   "source": []
  },
  {
   "cell_type": "code",
   "execution_count": null,
   "id": "f01a87db",
   "metadata": {},
   "outputs": [],
   "source": []
  },
  {
   "cell_type": "code",
   "execution_count": null,
   "id": "5d4b6cc0",
   "metadata": {},
   "outputs": [],
   "source": []
  },
  {
   "cell_type": "code",
   "execution_count": null,
   "id": "38fc8335",
   "metadata": {},
   "outputs": [],
   "source": []
  },
  {
   "cell_type": "code",
   "execution_count": null,
   "id": "0011e4a1",
   "metadata": {},
   "outputs": [],
   "source": []
  },
  {
   "cell_type": "code",
   "execution_count": null,
   "id": "459fbfa2",
   "metadata": {},
   "outputs": [],
   "source": []
  },
  {
   "cell_type": "code",
   "execution_count": null,
   "id": "36878391",
   "metadata": {},
   "outputs": [],
   "source": []
  },
  {
   "cell_type": "code",
   "execution_count": null,
   "id": "f9653783",
   "metadata": {},
   "outputs": [],
   "source": []
  },
  {
   "cell_type": "code",
   "execution_count": null,
   "id": "fabedb13",
   "metadata": {},
   "outputs": [],
   "source": []
  },
  {
   "cell_type": "code",
   "execution_count": null,
   "id": "5842f6d2",
   "metadata": {},
   "outputs": [],
   "source": []
  },
  {
   "cell_type": "code",
   "execution_count": null,
   "id": "0bdd4337",
   "metadata": {},
   "outputs": [],
   "source": []
  },
  {
   "cell_type": "code",
   "execution_count": null,
   "id": "51b6d154",
   "metadata": {},
   "outputs": [],
   "source": []
  },
  {
   "cell_type": "code",
   "execution_count": null,
   "id": "24718044",
   "metadata": {},
   "outputs": [],
   "source": []
  },
  {
   "cell_type": "code",
   "execution_count": null,
   "id": "3caf93da",
   "metadata": {},
   "outputs": [],
   "source": []
  },
  {
   "cell_type": "code",
   "execution_count": null,
   "id": "824deb7f",
   "metadata": {},
   "outputs": [],
   "source": []
  },
  {
   "cell_type": "code",
   "execution_count": null,
   "id": "c4cf6e0c",
   "metadata": {},
   "outputs": [],
   "source": []
  },
  {
   "cell_type": "code",
   "execution_count": null,
   "id": "0ea4e580",
   "metadata": {},
   "outputs": [],
   "source": []
  },
  {
   "cell_type": "code",
   "execution_count": null,
   "id": "01577ec9",
   "metadata": {},
   "outputs": [],
   "source": [
    "\n"
   ]
  },
  {
   "cell_type": "code",
   "execution_count": null,
   "id": "1fb77d9c",
   "metadata": {},
   "outputs": [],
   "source": []
  },
  {
   "cell_type": "code",
   "execution_count": null,
   "id": "2d7e4acf",
   "metadata": {},
   "outputs": [],
   "source": []
  },
  {
   "cell_type": "code",
   "execution_count": null,
   "id": "17bf3dae",
   "metadata": {},
   "outputs": [],
   "source": []
  },
  {
   "cell_type": "code",
   "execution_count": null,
   "id": "a39e3820",
   "metadata": {},
   "outputs": [],
   "source": []
  },
  {
   "cell_type": "code",
   "execution_count": null,
   "id": "a5572c45",
   "metadata": {},
   "outputs": [],
   "source": []
  },
  {
   "cell_type": "code",
   "execution_count": null,
   "id": "28b3f076",
   "metadata": {},
   "outputs": [],
   "source": []
  },
  {
   "cell_type": "code",
   "execution_count": null,
   "id": "b62c614c",
   "metadata": {},
   "outputs": [],
   "source": []
  },
  {
   "cell_type": "code",
   "execution_count": null,
   "id": "67020c0c",
   "metadata": {},
   "outputs": [],
   "source": []
  },
  {
   "cell_type": "code",
   "execution_count": null,
   "id": "5e5d0d62",
   "metadata": {},
   "outputs": [],
   "source": []
  },
  {
   "cell_type": "code",
   "execution_count": null,
   "id": "5f2ba31b",
   "metadata": {},
   "outputs": [],
   "source": []
  },
  {
   "cell_type": "code",
   "execution_count": null,
   "id": "da8b0c47",
   "metadata": {},
   "outputs": [],
   "source": []
  },
  {
   "cell_type": "code",
   "execution_count": null,
   "id": "b0057157",
   "metadata": {},
   "outputs": [],
   "source": []
  },
  {
   "cell_type": "code",
   "execution_count": null,
   "id": "170785d4",
   "metadata": {},
   "outputs": [],
   "source": []
  },
  {
   "cell_type": "code",
   "execution_count": null,
   "id": "fae22332",
   "metadata": {},
   "outputs": [],
   "source": []
  },
  {
   "cell_type": "code",
   "execution_count": null,
   "id": "b9c29ba1",
   "metadata": {},
   "outputs": [],
   "source": []
  },
  {
   "cell_type": "code",
   "execution_count": null,
   "id": "1575d841",
   "metadata": {},
   "outputs": [],
   "source": []
  },
  {
   "cell_type": "code",
   "execution_count": null,
   "id": "5e4ddfc1",
   "metadata": {},
   "outputs": [],
   "source": []
  },
  {
   "cell_type": "code",
   "execution_count": null,
   "id": "56c81cb2",
   "metadata": {},
   "outputs": [],
   "source": []
  },
  {
   "cell_type": "code",
   "execution_count": null,
   "id": "abd6da09",
   "metadata": {},
   "outputs": [],
   "source": []
  },
  {
   "cell_type": "code",
   "execution_count": null,
   "id": "ed12e141",
   "metadata": {},
   "outputs": [],
   "source": []
  },
  {
   "cell_type": "code",
   "execution_count": null,
   "id": "2c6d07d9",
   "metadata": {},
   "outputs": [],
   "source": []
  },
  {
   "cell_type": "code",
   "execution_count": null,
   "id": "c8493d3b",
   "metadata": {},
   "outputs": [],
   "source": []
  }
 ],
 "metadata": {
  "kernelspec": {
   "display_name": "Python 3 (ipykernel)",
   "language": "python",
   "name": "python3"
  },
  "language_info": {
   "codemirror_mode": {
    "name": "ipython",
    "version": 3
   },
   "file_extension": ".py",
   "mimetype": "text/x-python",
   "name": "python",
   "nbconvert_exporter": "python",
   "pygments_lexer": "ipython3",
   "version": "3.11.1"
  }
 },
 "nbformat": 4,
 "nbformat_minor": 5
}
