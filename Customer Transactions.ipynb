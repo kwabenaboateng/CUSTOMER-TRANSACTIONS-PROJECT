{
 "cells": [
  {
   "cell_type": "markdown",
   "id": "9835c07e",
   "metadata": {},
   "source": [
    "## PROJECT TITLE: CUSTOMER TRANSACTIONS\n",
    "\n",
    "#### Data Analysis by: Kwabena Boateng"
   ]
  },
  {
   "cell_type": "markdown",
   "id": "aa0d7f17",
   "metadata": {},
   "source": [
    "#### IMPORT LIBRARY PACKAGES"
   ]
  },
  {
   "cell_type": "code",
   "execution_count": 1,
   "id": "2d9a89c2",
   "metadata": {},
   "outputs": [],
   "source": [
    "import numpy as np\n",
    "import pandas as pd\n",
    "import seaborn as sns\n",
    "import plotly.express as px\n",
    "import matplotlib.pyplot as plt\n",
    "from datetime import datetime\n",
    "\n",
    "#from sklearn.preprocessing import LabelEncoder "
   ]
  },
  {
   "cell_type": "markdown",
   "id": "1e2c112e",
   "metadata": {},
   "source": [
    "#### LOAD DATASET"
   ]
  },
  {
   "cell_type": "code",
   "execution_count": null,
   "id": "c46a87fd",
   "metadata": {},
   "outputs": [],
   "source": [
    "customer_transactions = pd.read_csv(\"C:/Users/KWABENABOATENG/Desktop/DATA ANALYSIS/PERSONAL/CUSTOMER TRANSACTIONS PROJECT/sample_dataset.csv\")\n",
    "\n",
    "customer_transactions"
   ]
  },
  {
   "cell_type": "markdown",
   "id": "58ff555f",
   "metadata": {},
   "source": [
    "#### DATA UNDERSTANDING"
   ]
  },
  {
   "cell_type": "markdown",
   "id": "c476c90a",
   "metadata": {},
   "source": [
    "The dataset used for this project is stored in the data/ directory. The data consists of customer transaction records with the following columns:\n",
    "\n",
    "* customer_id: Unique identifier for each customer.\n",
    "* Name: First name of the customer.\n",
    "* Surname: Last name of the customer.\n",
    "* Gender: the sexual orientation of the customer.\n",
    "* Birthdate: the day, month and year the customer was born.\n",
    "* Transaction Amount: Amount of transaction made.\n",
    "* Date: Date of the transaction.\n",
    "* Merchant Name: the name of the merchant making the transactions.\n",
    "* Category: Product category."
   ]
  },
  {
   "cell_type": "markdown",
   "id": "4100d3d1",
   "metadata": {},
   "source": [
    "#### DATA PREPARATION"
   ]
  },
  {
   "cell_type": "markdown",
   "id": "95cf1da4",
   "metadata": {},
   "source": [
    "###### CHECK NUMBER OF COLUMNS AND ROWS IN THE DATASET."
   ]
  },
  {
   "cell_type": "code",
   "execution_count": null,
   "id": "550b2b1a",
   "metadata": {},
   "outputs": [],
   "source": [
    "print('The number of rows and columns in this dataset is', customer_transactions.shape, 'respectively')"
   ]
  },
  {
   "cell_type": "markdown",
   "id": "bceb7d9d",
   "metadata": {},
   "source": [
    "#### CHECK THE STRUCTURE OF THE DATASET"
   ]
  },
  {
   "cell_type": "code",
   "execution_count": null,
   "id": "6975c674",
   "metadata": {},
   "outputs": [],
   "source": [
    "#Show all the names of the columns in this dataset.\n",
    "\n",
    "customer_transactions.columns"
   ]
  },
  {
   "cell_type": "code",
   "execution_count": null,
   "id": "3150ff2c",
   "metadata": {},
   "outputs": [],
   "source": [
    "#Rename columns title.\n",
    "customer_transactions = customer_transactions.rename(columns={'Name': 'First Name', 'Surname': 'Last Name', \n",
    "                                                              'Birthdate': 'Date of Birth', \n",
    "                                                              'Transaction Amount': 'Transaction Amt ($)'})"
   ]
  },
  {
   "cell_type": "code",
   "execution_count": null,
   "id": "d427511b",
   "metadata": {},
   "outputs": [],
   "source": [
    "#top first (5)records of the dataset.\n",
    "\n",
    "customer_transactions.head()"
   ]
  },
  {
   "cell_type": "code",
   "execution_count": null,
   "id": "fb930032",
   "metadata": {},
   "outputs": [],
   "source": [
    "customer_transactions.info()"
   ]
  },
  {
   "cell_type": "markdown",
   "id": "40ac1083",
   "metadata": {},
   "source": [
    "#### CHECK FOR MISSING VALUES"
   ]
  },
  {
   "cell_type": "code",
   "execution_count": null,
   "id": "4270614e",
   "metadata": {},
   "outputs": [],
   "source": [
    "customer_transactions.isna().sum()"
   ]
  },
  {
   "cell_type": "code",
   "execution_count": null,
   "id": "3c66f285",
   "metadata": {},
   "outputs": [],
   "source": [
    "Total_MV = customer_transactions.isna().sum().sum()\n",
    "print('The total number of missing values in this dataset is', Total_MV)"
   ]
  },
  {
   "cell_type": "code",
   "execution_count": null,
   "id": "1b9b64f7",
   "metadata": {},
   "outputs": [],
   "source": [
    "#Check for the percentage for the missing values.\n",
    "\n",
    "missing_gender = customer_transactions['Gender'].isnull().sum()\n",
    "total_rows = len(customer_transactions)\n",
    "missing_percentage = (missing_gender / total_rows) * 100\n",
    "\n",
    "print(f\"Missing Gender Values: {missing_gender} ({missing_percentage:.2f}%)\")"
   ]
  },
  {
   "cell_type": "markdown",
   "id": "0f03256f",
   "metadata": {},
   "source": [
    "#### INSIGHTS\n",
    "\n",
    "The results showed that there are 5,047 missing values in the Gender column of the dataset. The percentage of the missing value sums up to 10.09% which is quite a huge percentage.\n",
    "\n",
    "\n",
    "In dealing with this, I will replace all the missing values in the gender column to UNDEFINED.\n",
    "\n",
    "This will presuppose that the sexual and gender orientation was not available for them to select, hence they left that field empty."
   ]
  },
  {
   "cell_type": "markdown",
   "id": "fc8b2a6b",
   "metadata": {},
   "source": [
    "#### DEALING WITH THE MISSING VALUES IN THE GENDER COLUMN"
   ]
  },
  {
   "cell_type": "code",
   "execution_count": null,
   "id": "1f5dff3c",
   "metadata": {},
   "outputs": [],
   "source": [
    "#Checking for the unique values in the Gender column.\n",
    "\n",
    "customer_transactions['Gender'].unique()"
   ]
  },
  {
   "cell_type": "code",
   "execution_count": null,
   "id": "8aa1c649",
   "metadata": {},
   "outputs": [],
   "source": [
    "#Checking for the count of the unique values in the Gender column.\n",
    "\n",
    "customer_transactions['Gender'].value_counts()"
   ]
  },
  {
   "cell_type": "code",
   "execution_count": null,
   "id": "a72e1abc",
   "metadata": {},
   "outputs": [],
   "source": [
    "#Replace missing values in the gender column with undefined.\n",
    "\n",
    "customer_transactions['Gender'].fillna('Undefined', inplace=True)"
   ]
  },
  {
   "cell_type": "code",
   "execution_count": null,
   "id": "cd5e513c",
   "metadata": {},
   "outputs": [],
   "source": [
    "#Replace gender initials with the full word.\n",
    "\n",
    "customer_transactions['Gender'] = customer_transactions['Gender'].replace('M', 'Male')\n",
    "customer_transactions['Gender'] = customer_transactions['Gender'].replace('F', 'Female')"
   ]
  },
  {
   "cell_type": "code",
   "execution_count": null,
   "id": "c92abd08",
   "metadata": {},
   "outputs": [],
   "source": [
    "#Checking for the unique values in the Gender column after replacing the missing values and renaming the initials with full word.\n",
    "customer_transactions['Gender'].unique()"
   ]
  },
  {
   "cell_type": "markdown",
   "id": "ff5f933c",
   "metadata": {},
   "source": [
    "#### CHECK THE CATEGORY COLUMNS"
   ]
  },
  {
   "cell_type": "code",
   "execution_count": null,
   "id": "87de0640",
   "metadata": {},
   "outputs": [],
   "source": [
    "customer_transactions['Category'].unique()"
   ]
  },
  {
   "cell_type": "code",
   "execution_count": null,
   "id": "2368e082",
   "metadata": {},
   "outputs": [],
   "source": [
    "customer_transactions['Category'].value_counts()"
   ]
  },
  {
   "cell_type": "markdown",
   "id": "404c36be",
   "metadata": {},
   "source": [
    "#### CHECK FOR DUPLICATE ROWS"
   ]
  },
  {
   "cell_type": "code",
   "execution_count": null,
   "id": "a6b2ba10",
   "metadata": {},
   "outputs": [],
   "source": [
    "Total_dup = customer_transactions.duplicated().sum()\n",
    "print('The total number of duplicate rows in this dataset is', Total_dup)"
   ]
  },
  {
   "cell_type": "code",
   "execution_count": null,
   "id": "a2c5ffda",
   "metadata": {},
   "outputs": [],
   "source": [
    "customer_transactions.describe().T"
   ]
  },
  {
   "cell_type": "code",
   "execution_count": null,
   "id": "56e6493c",
   "metadata": {},
   "outputs": [],
   "source": [
    "customer_transactions.describe(include='object').T"
   ]
  },
  {
   "cell_type": "markdown",
   "id": "1dea944a",
   "metadata": {},
   "source": [
    "### EXPLORATORY DATA ANALYSIS, (E.D.A)"
   ]
  },
  {
   "cell_type": "markdown",
   "id": "24a731a5",
   "metadata": {},
   "source": [
    "#### MAKE A COPY OF THE ORIGINAL DATASET."
   ]
  },
  {
   "cell_type": "code",
   "execution_count": null,
   "id": "ff6d5953",
   "metadata": {},
   "outputs": [],
   "source": [
    "customer_transactions_copy = customer_transactions.copy"
   ]
  },
  {
   "cell_type": "code",
   "execution_count": null,
   "id": "6c312217",
   "metadata": {},
   "outputs": [],
   "source": [
    "Cols_drop = ['Customer ID', 'Last Name']\n",
    "customer_transactions = customer_transactions.drop(columns= Cols_drop)"
   ]
  },
  {
   "cell_type": "code",
   "execution_count": null,
   "id": "2bbc54b9",
   "metadata": {
    "scrolled": false
   },
   "outputs": [],
   "source": [
    "customer_transactions.boxplot()"
   ]
  },
  {
   "cell_type": "markdown",
   "id": "499c0572",
   "metadata": {},
   "source": [
    "#### INSIGHTS TO BE DERIVED FROM THIS ANALYSIS"
   ]
  },
  {
   "cell_type": "markdown",
   "id": "cda49b11",
   "metadata": {},
   "source": [
    "#### QUESTIONS\n",
    "\n",
    " - Which category made the highest sales during the period?\n",
    " - Which age grouping patronized more of cosmetics, clothings and travel?\n",
    " - Which date had the highest patronage for Clothing?"
   ]
  },
  {
   "cell_type": "markdown",
   "id": "f1ca18c1",
   "metadata": {},
   "source": [
    "#### Question 1\n",
    " - Which category made the highest sales during the period?"
   ]
  },
  {
   "cell_type": "code",
   "execution_count": null,
   "id": "142bf0e9",
   "metadata": {},
   "outputs": [],
   "source": [
    "# Group the data by category and calculate total sales for each category\n",
    "category_sales = customer_transactions.groupby('Category')['Transaction Amt ($)'].sum()\n",
    "\n",
    "# Print the total sales for each category\n",
    "print(category_sales)"
   ]
  },
  {
   "cell_type": "code",
   "execution_count": null,
   "id": "a870ea58",
   "metadata": {},
   "outputs": [],
   "source": [
    "# Plot a bar chart to visualize the results\n",
    "plt.figure(figsize=(10, 6))\n",
    "category_sales.plot(kind='bar')\n",
    "plt.title('Total Sales by Category')\n",
    "plt.xlabel('Category')\n",
    "plt.ylabel('Transaction Amt ($)')\n",
    "plt.xticks(rotation=45)\n",
    "\n",
    "plt.legend()\n",
    "\n",
    "# Add labels on top of the bars\n",
    "for i, v in enumerate(category_sales):\n",
    "    plt.text(i, v + 200, f'{v:.2f}', ha='center', va='bottom', fontsize=10)\n",
    "\n",
    "plt.show()"
   ]
  },
  {
   "cell_type": "code",
   "execution_count": null,
   "id": "20e45e34",
   "metadata": {},
   "outputs": [],
   "source": [
    "# Find the category with the highest total sales\n",
    "highest_sales_category = category_sales.idxmax()\n",
    "highest_sales_amount = category_sales.max()\n",
    "\n",
    "print(f\"The category with the highest sales is '{highest_sales_category}' with a total sales amount of $ {highest_sales_amount:.2f}\")"
   ]
  },
  {
   "cell_type": "markdown",
   "id": "ad733033",
   "metadata": {},
   "source": [
    "#### Question 2\n",
    " - Which age group patronized more of cosmetics, clothings and travel?"
   ]
  },
  {
   "cell_type": "code",
   "execution_count": null,
   "id": "636391a6",
   "metadata": {},
   "outputs": [],
   "source": [
    "# Convert the 'Date of Birth' column to datetime\n",
    "customer_transactions['Date of Birth'] = pd.to_datetime(customer_transactions['Date of Birth'])\n",
    "\n",
    "# Calculate age based on the current date\n",
    "current_date = datetime.now()\n",
    "customer_transactions['Age'] = (current_date - customer_transactions['Date of Birth']) // pd.Timedelta(days=365)\n",
    "\n",
    "customer_transactions"
   ]
  },
  {
   "cell_type": "code",
   "execution_count": null,
   "id": "af353e4a",
   "metadata": {},
   "outputs": [],
   "source": [
    "# Group Ages into categories: young, middle age, and old\n",
    "\n",
    "# Define age bins and labels\n",
    "age_bins = [0, 30, 50, 100]  # You can adjust these age boundaries as needed\n",
    "\n",
    "age_labels = ['Young', 'Middle Age', 'Old']\n",
    "\n",
    "# Apply age grouping\n",
    "customer_transactions['Age Group'] = pd.cut(customer_transactions['Age'], bins=age_bins, labels=age_labels, right=False)\n"
   ]
  },
  {
   "cell_type": "code",
   "execution_count": null,
   "id": "0c0c406a",
   "metadata": {},
   "outputs": [],
   "source": [
    "customer_transactions.head()"
   ]
  },
  {
   "cell_type": "code",
   "execution_count": null,
   "id": "0a89f59e",
   "metadata": {},
   "outputs": [],
   "source": [
    "# Filter the data for the specified products\n",
    "products_of_interest = ['Cosmetic', 'Clothing', 'Travel']  # Use correct case for column names\n",
    "filtered_data = customer_transactions[customer_transactions['Category'].isin(products_of_interest)]\n",
    "\n",
    "# Group the data by age group and count the number of purchases in each category\n",
    "grouped_data = filtered_data.groupby(['Age Group', 'Category']).size().unstack().fillna(0)\n",
    "\n",
    "# Find the age group that patronized each category the most\n",
    "most_patronized_travel = grouped_data['Travel'].idxmax()\n",
    "most_patronized_clothing = grouped_data['Clothing'].idxmax()\n",
    "most_patronized_cosmetics = grouped_data['Cosmetic'].idxmax()\n",
    "\n",
    "print(f\"The age group that patronized travel the most is {most_patronized_travel}\")\n",
    "print(f\"The age group that patronized clothing the most is {most_patronized_clothing}\")\n",
    "print(f\"The age group that patronized cosmetics the most is {most_patronized_cosmetics}\")"
   ]
  },
  {
   "cell_type": "code",
   "execution_count": null,
   "id": "c2d8b34d",
   "metadata": {},
   "outputs": [],
   "source": [
    "# Create a pie chart to visualize the results\n",
    "labels = ['Cosmetic', 'Clothing', 'Travel']\n",
    "sizes = [grouped_data['Travel'].max(), grouped_data['Clothing'].max(), grouped_data['Cosmetic'].max()]\n",
    "explode = (0.1, 0, 0)  # Explode the 1st slice (Cosmetic)\n",
    "\n",
    "plt.pie(sizes, explode=explode, labels=labels, autopct='%1.1f%%', startangle=140)\n",
    "plt.axis('equal')  # Equal aspect ratio ensures that pie is drawn as a circle.\n",
    "\n",
    "plt.title('Age Groups Patronizing Products')\n",
    "\n",
    "plt.show()"
   ]
  },
  {
   "cell_type": "markdown",
   "id": "ccb8055c",
   "metadata": {},
   "source": [
    "#### Question 3\n",
    " - Which date had the highest patronage for Clothing?"
   ]
  },
  {
   "cell_type": "code",
   "execution_count": null,
   "id": "d38b5895",
   "metadata": {},
   "outputs": [],
   "source": [
    "# List of categories you want to analyze\n",
    "categories_to_analyze = ['Cosmetic', 'Clothing', 'Travel' , 'Electronics' , 'Market', 'Restaurant']\n",
    "\n",
    "# Iterate through the categories\n",
    "for category in categories_to_analyze:\n",
    "    # Filter the data for the specific category\n",
    "    category_data = customer_transactions[customer_transactions['Category'] == category]\n",
    "    \n",
    "    # Group the data by date and count the number of purchases for each date\n",
    "    date_patronage = category_data.groupby('Date').size()\n",
    "    \n",
    "    # Find the date with the highest patronage for the category\n",
    "    date_with_highest_patronage = date_patronage.idxmax()\n",
    "    highest_patronage_count = date_patronage.max()\n",
    "    \n",
    "    print(f\"For the '{category}' category:\")\n",
    "    print(f\"The date with the highest patronage is {date_with_highest_patronage} with {highest_patronage_count} purchases.\")\n",
    "    print()\n"
   ]
  },
  {
   "cell_type": "markdown",
   "id": "562c92db",
   "metadata": {},
   "source": [
    " #### Question 4\n",
    " - What is the total number of person based on their gender patronized restaurant?"
   ]
  },
  {
   "cell_type": "code",
   "execution_count": null,
   "id": "0c441a4f",
   "metadata": {},
   "outputs": [],
   "source": [
    "# Filter the data for the \"Restaurant\" category\n",
    "restaurant_data = customer_transactions[customer_transactions['Category'] == 'Restaurant']\n",
    "\n",
    "# Group the data by gender and count the number of patrons for each gender\n",
    "gender_patrons = restaurant_data['Gender'].value_counts()\n",
    "\n",
    "print(\"Total number of people who patronized the restaurant based on gender:\")\n",
    "print(gender_patrons)\n"
   ]
  },
  {
   "cell_type": "code",
   "execution_count": null,
   "id": "0b813950",
   "metadata": {},
   "outputs": [],
   "source": [
    "# Create a bar chart to visualize the results\n",
    "gender_labels = gender_patrons.index\n",
    "patron_counts = gender_patrons.values\n",
    "\n",
    "plt.figure(figsize=(8, 6))\n",
    "plt.bar(gender_labels, patron_counts, color='blue')\n",
    "plt.title('Total Number of Restaurant Patrons by Gender')\n",
    "plt.xlabel('Gender')\n",
    "plt.ylabel('Number of Patrons')\n",
    "\n",
    "# Annotate the bars with counts\n",
    "for i, count in enumerate(patron_counts):\n",
    "    plt.text(i, count, str(count), ha='center', va='bottom', fontsize=12)\n",
    "\n",
    "plt.show()"
   ]
  },
  {
   "cell_type": "markdown",
   "id": "478dc34e",
   "metadata": {},
   "source": [
    " #### Question 5\n",
    " - What is the trend in the transactions?"
   ]
  },
  {
   "cell_type": "code",
   "execution_count": null,
   "id": "68425e7e",
   "metadata": {},
   "outputs": [],
   "source": [
    "# Convert the 'transaction_date' column to a datetime object\n",
    "customer_transactions['Date'] = pd.to_datetime(customer_transactions['Date'])\n",
    "\n",
    "# Group the data by transaction date and count the number of transactions for each date\n",
    "transaction_trend = customer_transactions.groupby('Date').size()\n",
    "\n",
    "# Create a line chart to visualize the transaction trend\n",
    "plt.figure(figsize=(12, 6))\n",
    "plt.plot(transaction_trend.index, transaction_trend.values, marker='o', color='red')\n",
    "plt.title('Transaction Trend Over The Transaction Period.')\n",
    "plt.xlabel('Transaction Date')\n",
    "plt.ylabel('Number of Transactions')\n",
    "plt.grid(True)\n",
    "\n",
    "# Optionally, format the x-axis labels for date\n",
    "plt.gca().xaxis.set_major_formatter(plt.matplotlib.dates.DateFormatter('%Y-%m-%d'))\n",
    "plt.gca().xaxis.set_major_locator(plt.matplotlib.dates.DayLocator(interval=10))  # Adjust the interval as needed\n",
    "\n",
    "plt.xticks(rotation=45)\n",
    "\n",
    "plt.show()"
   ]
  },
  {
   "cell_type": "code",
   "execution_count": null,
   "id": "f828b86f",
   "metadata": {},
   "outputs": [],
   "source": [
    "# Convert the 'transaction_date' column to a datetime object\n",
    "customer_transactions['Date'] = pd.to_datetime(customer_transactions['Date'])\n",
    "\n",
    "# Group the data by transaction date and count the number of transactions for each date\n",
    "transaction_counts_by_date = customer_transactions.groupby('Date').size()\n",
    "date_with_lowest_transactions = transaction_counts_by_date.idxmin()\n",
    "\n",
    "# Group the data by category and count the number of patrons for each category\n",
    "category_patronage = customer_transactions['Category'].value_counts()\n",
    "category_with_lowest_patronage = category_patronage.idxmin()\n",
    "\n",
    "print(f\"The date with the lowest number of transactions is {date_with_lowest_transactions}\")\n",
    "print(f\"The category with the lowest patronage is {category_with_lowest_patronage}\")\n"
   ]
  },
  {
   "cell_type": "markdown",
   "id": "7b48c2ec",
   "metadata": {},
   "source": [
    " #### Question 6\n",
    " - What is the percentage for the various gender? "
   ]
  },
  {
   "cell_type": "code",
   "execution_count": null,
   "id": "7302f780",
   "metadata": {},
   "outputs": [],
   "source": [
    "#value counts for each gender\n",
    "\n",
    "customer_transactions['Gender'].value_counts()"
   ]
  },
  {
   "cell_type": "code",
   "execution_count": null,
   "id": "5612c3db",
   "metadata": {},
   "outputs": [],
   "source": [
    "# Assuming your DataFrame has a 'Gender' column, you can count the number of transactions for each gender\n",
    "gender_counts = customer_transactions['Gender'].value_counts()\n",
    "\n",
    "# Create a pie chart\n",
    "plt.figure(figsize=(7, 7))\n",
    "plt.pie(gender_counts, labels=gender_counts.index, autopct='%1.1f%%', startangle=140)\n",
    "plt.title('Gender Distribution Percentage')\n",
    "\n",
    "# Add a legend\n",
    "plt.legend()\n",
    "\n",
    "plt.show()"
   ]
  },
  {
   "cell_type": "code",
   "execution_count": null,
   "id": "ee482af2",
   "metadata": {},
   "outputs": [],
   "source": [
    "# Group by \"Age Group\" and count the number of each gender within each age group\n",
    "age_gender_distribution = customer_transactions.groupby(['Age Group', 'Gender']).size().unstack(fill_value=0)\n",
    "\n",
    "# Display the age-gender distribution\n",
    "print(age_gender_distribution)\n"
   ]
  },
  {
   "cell_type": "code",
   "execution_count": null,
   "id": "fb0c6478",
   "metadata": {},
   "outputs": [],
   "source": [
    "# Plot the age-gender distribution as a bar chart\n",
    "age_gender_distribution.plot(kind='bar')\n",
    "plt.title('Age-Gender Distribution')\n",
    "plt.xlabel('Age Group')\n",
    "plt.ylabel('Count')\n",
    "\n",
    "plt.show()"
   ]
  },
  {
   "cell_type": "code",
   "execution_count": null,
   "id": "e7c1dd54",
   "metadata": {},
   "outputs": [],
   "source": []
  },
  {
   "cell_type": "code",
   "execution_count": null,
   "id": "0325d5fb",
   "metadata": {},
   "outputs": [],
   "source": []
  },
  {
   "cell_type": "code",
   "execution_count": null,
   "id": "d54b18c0",
   "metadata": {},
   "outputs": [],
   "source": []
  },
  {
   "cell_type": "code",
   "execution_count": null,
   "id": "19e6ee57",
   "metadata": {},
   "outputs": [],
   "source": []
  },
  {
   "cell_type": "code",
   "execution_count": null,
   "id": "0481dd7e",
   "metadata": {},
   "outputs": [],
   "source": []
  },
  {
   "cell_type": "markdown",
   "id": "0c304d1c",
   "metadata": {},
   "source": [
    " #### Question 7\n",
    " - Which merchant name had the highest number of transactions during the period?"
   ]
  },
  {
   "cell_type": "code",
   "execution_count": null,
   "id": "97d6513e",
   "metadata": {},
   "outputs": [],
   "source": [
    "# Group the data by the merchant and count the number of transactions for each merchant\n",
    "\n",
    "merchant_transaction_counts = customer_transactions['Merchant Name'].value_counts()\n",
    "\n",
    "merchant_with_highest_transactions = merchant_transaction_counts.idxmax()\n",
    "\n",
    "highest_transaction_count = merchant_transaction_counts.max()\n",
    "\n",
    "print(f\"The merchant with the highest number of transactions is '{merchant_with_highest_transactions}'\")\n",
    "print()\n",
    "print(f\"They have {highest_transaction_count} transactions.\")"
   ]
  },
  {
   "cell_type": "code",
   "execution_count": null,
   "id": "de2aabe9",
   "metadata": {},
   "outputs": [],
   "source": []
  },
  {
   "cell_type": "code",
   "execution_count": null,
   "id": "e8abcda6",
   "metadata": {},
   "outputs": [],
   "source": []
  }
 ],
 "metadata": {
  "kernelspec": {
   "display_name": "Python 3 (ipykernel)",
   "language": "python",
   "name": "python3"
  },
  "language_info": {
   "codemirror_mode": {
    "name": "ipython",
    "version": 3
   },
   "file_extension": ".py",
   "mimetype": "text/x-python",
   "name": "python",
   "nbconvert_exporter": "python",
   "pygments_lexer": "ipython3",
   "version": "3.11.1"
  }
 },
 "nbformat": 4,
 "nbformat_minor": 5
}
