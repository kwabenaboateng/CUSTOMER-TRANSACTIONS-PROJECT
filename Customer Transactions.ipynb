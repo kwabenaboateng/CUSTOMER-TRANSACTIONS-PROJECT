{
 "cells": [
  {
   "cell_type": "markdown",
   "id": "9835c07e",
   "metadata": {},
   "source": [
    "## PROJECT TITLE: CUSTOMER TRANSACTIONS\n",
    "\n",
    "#### Data Analysis by: Kwabena Boateng"
   ]
  },
  {
   "cell_type": "code",
   "execution_count": null,
   "id": "2d9a89c2",
   "metadata": {},
   "outputs": [],
   "source": [
    "import numpy as np\n",
    "import pandas as pd\n",
    "import seaborn as sns\n",
    "import plotly.express as px\n",
    "import matplotlib.pyplot as plt\n",
    "\n",
    "from datetime import datetime\n",
    "\n",
    "from sklearn.preprocessing import LabelEncoder "
   ]
  },
  {
   "cell_type": "markdown",
   "id": "1e2c112e",
   "metadata": {},
   "source": [
    "### LOAD DATASET"
   ]
  },
  {
   "cell_type": "code",
   "execution_count": null,
   "id": "c46a87fd",
   "metadata": {},
   "outputs": [],
   "source": [
    "customer_transactions = pd.read_csv(\"C:/Users/KWABENABOATENG/Desktop/DATA ANALYSIS/PERSONAL/CUSTOMER TRANSACTIONS PROJECT/sample_dataset.csv\")\n",
    "\n",
    "customer_transactions"
   ]
  },
  {
   "cell_type": "markdown",
   "id": "58ff555f",
   "metadata": {},
   "source": [
    "### DATA UNDERSTANDING"
   ]
  },
  {
   "cell_type": "markdown",
   "id": "c476c90a",
   "metadata": {},
   "source": [
    "The dataset used for this project is stored in the data/ directory. The data consists of customer transaction records with the following columns:\n",
    "\n",
    "* customer_id: Unique identifier for each customer.\n",
    "* Name: First name of the customer.\n",
    "* Surname: Last name of the customer.\n",
    "* Gender: the sexual orientation of the customer.\n",
    "* Birthdate: the day, month and year the customer was born.\n",
    "* Transaction Amount: Amount of transaction made.\n",
    "* Date: Date of the transaction.\n",
    "* Merchant Name: the name of the merchant making the transactions.\n",
    "* Category: Product category."
   ]
  },
  {
   "cell_type": "markdown",
   "id": "4100d3d1",
   "metadata": {},
   "source": [
    "### DATA PREPARATION"
   ]
  },
  {
   "cell_type": "markdown",
   "id": "95cf1da4",
   "metadata": {},
   "source": [
    "#### CHECK NUMBER OF COLUMNS AND ROWS IN THE DATASET."
   ]
  },
  {
   "cell_type": "code",
   "execution_count": null,
   "id": "550b2b1a",
   "metadata": {},
   "outputs": [],
   "source": [
    "print('The number of rows and columns in this dataset is', customer_transactions.shape, 'respectively')"
   ]
  },
  {
   "cell_type": "markdown",
   "id": "bceb7d9d",
   "metadata": {},
   "source": [
    "#### CHECK THE STRUCTURE OF THE DATASET"
   ]
  },
  {
   "cell_type": "code",
   "execution_count": null,
   "id": "6975c674",
   "metadata": {},
   "outputs": [],
   "source": [
    "#Show all the names of the columns in this dataset.\n",
    "\n",
    "customer_transactions.columns"
   ]
  },
  {
   "cell_type": "code",
   "execution_count": null,
   "id": "3150ff2c",
   "metadata": {},
   "outputs": [],
   "source": [
    "#Rename columns title.\n",
    "customer_transactions = customer_transactions.rename(columns={'Name': 'First Name', 'Surname': 'Last Name', 'Birthdate': 'Date of Birth'})"
   ]
  },
  {
   "cell_type": "code",
   "execution_count": null,
   "id": "d427511b",
   "metadata": {},
   "outputs": [],
   "source": [
    "#top first (5)records of the dataset.\n",
    "\n",
    "customer_transactions.head()"
   ]
  },
  {
   "cell_type": "code",
   "execution_count": null,
   "id": "fb930032",
   "metadata": {},
   "outputs": [],
   "source": [
    "customer_transactions.info()"
   ]
  },
  {
   "cell_type": "markdown",
   "id": "40ac1083",
   "metadata": {},
   "source": [
    "#### CHECK FOR MISSING VALUES"
   ]
  },
  {
   "cell_type": "code",
   "execution_count": null,
   "id": "4270614e",
   "metadata": {},
   "outputs": [],
   "source": [
    "customer_transactions.isna().sum()"
   ]
  },
  {
   "cell_type": "code",
   "execution_count": null,
   "id": "3c66f285",
   "metadata": {},
   "outputs": [],
   "source": [
    "Total_MV = customer_transactions.isna().sum().sum()\n",
    "print('The total number of missing values in this dataset is', Total_MV)"
   ]
  },
  {
   "cell_type": "code",
   "execution_count": null,
   "id": "1b9b64f7",
   "metadata": {},
   "outputs": [],
   "source": [
    "#Check for the percentage for the missing values.\n",
    "\n",
    "missing_gender = customer_transactions['Gender'].isnull().sum()\n",
    "total_rows = len(customer_transactions)\n",
    "missing_percentage = (missing_gender / total_rows) * 100\n",
    "\n",
    "print(f\"Missing Gender Values: {missing_gender} ({missing_percentage:.2f}%)\")"
   ]
  },
  {
   "cell_type": "markdown",
   "id": "0f03256f",
   "metadata": {},
   "source": [
    "#### INSIGHTS\n",
    "\n",
    "The results showed that there are 5,047 missing values in the Gender column of the dataset. The percentage of the missing value sums up to 10.09% which is quite a huge percentage.\n",
    "\n",
    "\n",
    "In dealing with this, I will replace all the missing values in the gender column to UNDEFINED.\n",
    "\n",
    "This will presuppose that the sexual and gender orientation was not available for them to select, hence they left that field empty."
   ]
  },
  {
   "cell_type": "markdown",
   "id": "fc8b2a6b",
   "metadata": {},
   "source": [
    "#### DEALING WITH THE MISSING VALUES IN THE GENDER COLUMN"
   ]
  },
  {
   "cell_type": "code",
   "execution_count": null,
   "id": "1f5dff3c",
   "metadata": {},
   "outputs": [],
   "source": [
    "#Checking for the unique values in the Gender column.\n",
    "\n",
    "customer_transactions['Gender'].unique()"
   ]
  },
  {
   "cell_type": "code",
   "execution_count": null,
   "id": "8aa1c649",
   "metadata": {},
   "outputs": [],
   "source": [
    "#Checking for the count of the unique values in the Gender column.\n",
    "\n",
    "customer_transactions['Gender'].value_counts()"
   ]
  },
  {
   "cell_type": "code",
   "execution_count": null,
   "id": "a72e1abc",
   "metadata": {},
   "outputs": [],
   "source": [
    "#Replace missing values in the gender column with undefined.\n",
    "\n",
    "customer_transactions['Gender'].fillna('Undefined', inplace=True)"
   ]
  },
  {
   "cell_type": "code",
   "execution_count": null,
   "id": "cd5e513c",
   "metadata": {},
   "outputs": [],
   "source": [
    "#Replace gender initials with the full word.\n",
    "\n",
    "customer_transactions['Gender'] = customer_transactions['Gender'].replace('M', 'Male')\n",
    "customer_transactions['Gender'] = customer_transactions['Gender'].replace('F', 'Female')"
   ]
  },
  {
   "cell_type": "code",
   "execution_count": null,
   "id": "c92abd08",
   "metadata": {},
   "outputs": [],
   "source": [
    "#Checking for the unique values in the Gender column after replacing the missing values and renaming the initials with full word.\n",
    "customer_transactions['Gender'].unique()"
   ]
  },
  {
   "cell_type": "markdown",
   "id": "ff5f933c",
   "metadata": {},
   "source": [
    "#### CHECKING THE CATEGORY COLUMNS"
   ]
  },
  {
   "cell_type": "code",
   "execution_count": null,
   "id": "87de0640",
   "metadata": {},
   "outputs": [],
   "source": [
    "customer_transactions['Category'].unique()"
   ]
  },
  {
   "cell_type": "code",
   "execution_count": null,
   "id": "2368e082",
   "metadata": {},
   "outputs": [],
   "source": [
    "customer_transactions['Category'].value_counts()"
   ]
  },
  {
   "cell_type": "markdown",
   "id": "404c36be",
   "metadata": {},
   "source": [
    "#### CHECK FOR DUPLICATE ROWS"
   ]
  },
  {
   "cell_type": "code",
   "execution_count": null,
   "id": "a6b2ba10",
   "metadata": {},
   "outputs": [],
   "source": [
    "Total_dup = customer_transactions.duplicated().sum()\n",
    "print('The total number of duplicate rows in this dataset is', Total_dup)"
   ]
  },
  {
   "cell_type": "code",
   "execution_count": null,
   "id": "a2c5ffda",
   "metadata": {},
   "outputs": [],
   "source": [
    "customer_transactions.describe().T"
   ]
  },
  {
   "cell_type": "code",
   "execution_count": null,
   "id": "56e6493c",
   "metadata": {},
   "outputs": [],
   "source": [
    "customer_transactions.describe(include='object').T"
   ]
  },
  {
   "cell_type": "markdown",
   "id": "1dea944a",
   "metadata": {},
   "source": [
    "### EXPLORATORY DATA ANALYSIS, (E.D.A)"
   ]
  },
  {
   "cell_type": "markdown",
   "id": "24a731a5",
   "metadata": {},
   "source": [
    "#### MAKE A COPY OF THE ORIGINAL DATASET."
   ]
  },
  {
   "cell_type": "code",
   "execution_count": null,
   "id": "ff6d5953",
   "metadata": {},
   "outputs": [],
   "source": [
    "customer_transactions_copy = customer_transactions.copy"
   ]
  },
  {
   "cell_type": "code",
   "execution_count": null,
   "id": "6c312217",
   "metadata": {},
   "outputs": [],
   "source": [
    "Cols_drop = ['Customer ID', 'Last Name']\n",
    "customer_transactions = customer_transactions.drop(columns= Cols_drop)"
   ]
  },
  {
   "cell_type": "code",
   "execution_count": null,
   "id": "2bbc54b9",
   "metadata": {
    "scrolled": false
   },
   "outputs": [],
   "source": [
    "customer_transactions.boxplot()"
   ]
  },
  {
   "cell_type": "markdown",
   "id": "499c0572",
   "metadata": {},
   "source": [
    "### INSIGHTS TO BE DERIVED FROM THIS ANALYSIS"
   ]
  },
  {
   "cell_type": "markdown",
   "id": "77191dcd",
   "metadata": {},
   "source": [
    "#### QUESTIONS\n",
    " - What is the percentage for the various gender in the gender column? \n",
    " - What is the total amount generated by each category?\n",
    " - What is the total amount generated by the various gender in connection to the category?\n",
    " - What are the top 3 highest transactions in each category and their merchant names?\n",
    " - What are the age ranges of customers who patronize the various categories?\n",
    " - What is the trend in the transactions?"
   ]
  },
  {
   "cell_type": "markdown",
   "id": "26ccc455",
   "metadata": {},
   "source": [
    "#### QUESTION ONE\n",
    "\n",
    "###### - What is the percentage for the various gender in the gender column? "
   ]
  },
  {
   "cell_type": "code",
   "execution_count": null,
   "id": "9f48bed9",
   "metadata": {},
   "outputs": [],
   "source": [
    "#Get the value counts for each gender\n",
    "\n",
    "customer_transactions['Gender'].value_counts()"
   ]
  },
  {
   "cell_type": "code",
   "execution_count": null,
   "id": "6b41f106",
   "metadata": {},
   "outputs": [],
   "source": [
    "#Plot the above results into a pie chart.\n",
    "\n",
    "gender_counts = customer_transactions['Gender'].value_counts()\n",
    "\n",
    "total_count = len(customer_transactions)\n",
    "\n",
    "gender_percentages = (gender_counts / total_count) * 100\n",
    "\n",
    "\n",
    "# Create a pie chart\n",
    "plt.figure(figsize=(7, 7))\n",
    "\n",
    "plt.pie(gender_counts, labels=gender_counts.index, autopct='%1.1f%%', startangle=140)\n",
    "\n",
    "plt.title('Gender Distribution Percentage')\n",
    "\n",
    "# Add a legend\n",
    "plt.legend(gender_percentages.index, title=\"Gender Percentage\")\n",
    "\n",
    "plt.show()"
   ]
  },
  {
   "cell_type": "markdown",
   "id": "54daafcf",
   "metadata": {},
   "source": [
    "#### INSIGHTS\n",
    "\n",
    "There are six (6) categories in this dataset namely, Cosmetic, Travel, Clothing, Electronics, Restaurant and Market.\n",
    "\n",
    "Below are their outputs / results in descending order:\n",
    "\n",
    "- Restaurant  - 8413 - 16.8%\n",
    "- Market      - 8382 - 16.8%\n",
    "- Travel      - 8377 - 16.8%\n",
    "- Electronics - 8324 - 16.6%\n",
    "- Clothing    - 8261 - 16.5%\n",
    "- Cosmetic    - 8243 - 16.5%"
   ]
  },
  {
   "cell_type": "markdown",
   "id": "3c041689",
   "metadata": {},
   "source": [
    "#### QUESTION TWO\n",
    "\n",
    "###### - What is the total amount generated by each category? "
   ]
  },
  {
   "cell_type": "code",
   "execution_count": null,
   "id": "62a6ad3c",
   "metadata": {},
   "outputs": [],
   "source": [
    "# Calculate the total amount for each category\n",
    "category_totals = customer_transactions.groupby('Category')['Transaction Amount'].sum().reset_index()\n",
    "\n",
    "# Display the result\n",
    "print(category_totals)\n",
    "\n",
    "# Create a bar chart\n",
    "plt.figure(figsize=(10, 6))\n",
    "plt.bar(category_totals['Category'], category_totals['Transaction Amount'])\n",
    "plt.xlabel('Category')\n",
    "plt.ylabel('Transaction Amount')\n",
    "plt.title('Total Amount by Category')\n",
    "\n",
    "# Rotate the x-axis labels for better readability (optional)\n",
    "plt.xticks(rotation=45)\n",
    "\n",
    "plt.show()"
   ]
  },
  {
   "cell_type": "markdown",
   "id": "89ff0585",
   "metadata": {},
   "source": [
    "#### QUESTION THREE\n",
    "\n",
    "###### - What is the total amount generated by the various gender in connection to the category?"
   ]
  },
  {
   "cell_type": "code",
   "execution_count": null,
   "id": "469ced1e",
   "metadata": {},
   "outputs": [],
   "source": [
    "gender_category_totals = customer_transactions.groupby(['Gender', 'Category'])['Transaction Amount'].sum().reset_index()\n",
    "gender_category_totals "
   ]
  },
  {
   "cell_type": "code",
   "execution_count": null,
   "id": "13bed666",
   "metadata": {},
   "outputs": [],
   "source": [
    "# Set the figure size\n",
    "plt.figure(figsize=(12, 6))\n",
    "\n",
    "# Grouped bar chart\n",
    "category_names = gender_category_totals['Category'].unique()\n",
    "width = 0.30\n",
    "x = range(len(category_names))\n",
    "\n",
    "for i, gender in enumerate(gender_category_totals['Gender'].unique()):\n",
    "    gender_data = gender_category_totals[gender_category_totals['Gender'] == gender]\n",
    "    amounts = gender_data['Transaction Amount']\n",
    "    plt.bar([pos + i * width for pos in x], amounts, width, label=gender)\n",
    "\n",
    "plt.xlabel('Category')\n",
    "plt.ylabel('Total Amount')\n",
    "plt.title('Total Amount by Gender and Category')\n",
    "plt.xticks([pos + width for pos in x], category_names)\n",
    "plt.legend(title='Gender')\n",
    "\n",
    "# Rotate the x-axis labels for better readability (optional)\n",
    "plt.xticks(rotation=45)\n",
    "\n",
    "plt.show()"
   ]
  },
  {
   "cell_type": "markdown",
   "id": "a2b9f217",
   "metadata": {},
   "source": [
    "#### QUESTION FOUR\n",
    "\n",
    "###### - What are the top 3 highest transactions in each category and their merchant names."
   ]
  },
  {
   "cell_type": "code",
   "execution_count": null,
   "id": "9e37ea5d",
   "metadata": {},
   "outputs": [],
   "source": [
    "\n",
    "customer_transactions = pd.DataFrame(customer_transactions)\n",
    "\n",
    "# Find the top 3 highest transactions in each category\n",
    "result = customer_transactions.groupby('Category').apply(lambda x: x.nlargest(3, 'Transaction Amount'))[['Merchant Name', 'Category', 'Transaction Amount']].reset_index(drop=True)\n",
    "\n",
    "print(result)\n"
   ]
  },
  {
   "cell_type": "code",
   "execution_count": null,
   "id": "c92122e8",
   "metadata": {},
   "outputs": [],
   "source": [
    "# Create a bar plot\n",
    "plt.figure(figsize=(10, 8))\n",
    "for category, group in result.groupby('Category'):\n",
    "    plt.bar(group['Merchant Name'], group['Transaction Amount'], label=f'Category {category}')\n",
    "\n",
    "# Add labels and a title\n",
    "plt.xlabel('Merchant Name')\n",
    "\n",
    "plt.ylabel('Transaction Amount')\n",
    "\n",
    "plt.title('Top 3 Highest Transactions in Each Category')\n",
    "\n",
    "# Rotate the x-axis labels for better readability (optional)\n",
    "plt.xticks(rotation=80)\n",
    "\n",
    "plt.legend()\n",
    "\n",
    "plt.show()"
   ]
  },
  {
   "cell_type": "markdown",
   "id": "b163cccc",
   "metadata": {},
   "source": [
    "#### QUESTION FIVE\n",
    "\n",
    "###### - What are the age ranges of customers who patronize the various categories?"
   ]
  },
  {
   "cell_type": "code",
   "execution_count": null,
   "id": "e00af2a0",
   "metadata": {},
   "outputs": [],
   "source": [
    "# Convert the 'Date of Birth' column to datetime\n",
    "customer_transactions['Date of Birth'] = pd.to_datetime(customer_transactions['Date of Birth'])\n",
    "\n",
    "# Calculate age based on the current date\n",
    "current_date = datetime.now()\n",
    "customer_transactions['Age'] = (current_date - customer_transactions['Date of Birth']) // pd.Timedelta(days=365)\n",
    "\n",
    "customer_transactions"
   ]
  },
  {
   "cell_type": "markdown",
   "id": "eb211a9d",
   "metadata": {},
   "source": [
    "#### CONVERT THE BIRTHDATE INTO A DATETIME TO PLOT IT OUT AS A GRAPH"
   ]
  },
  {
   "cell_type": "code",
   "execution_count": null,
   "id": "1d77b4e0",
   "metadata": {},
   "outputs": [],
   "source": [
    "# Define age bins and labels\n",
    "age_bins = [20, 25, 30, 35, 40, 45, 50, 55, 60, 65, 70, 75, 80, 85, 90, 100]\n",
    "\n",
    "age_labels = ['21-25', '26-30', '31-35', '36-40', '41-45', '46-50', '51-55', '56-60', '61-65', '66-70', '71-75', '76-80', '81-85', '86-90', '91-95']\n",
    "\n",
    "# Apply age grouping\n",
    "customer_transactions['Age Group'] = pd.cut(customer_transactions['Age'], bins=age_bins, labels=age_labels, right=False)\n",
    "\n",
    "# Histogram\n",
    "plt.figure(figsize=(10, 8))\n",
    "\n",
    "sns.histplot(data=customer_transactions, x='Age', kde=True)\n",
    "\n",
    "plt.title('Age Distribution')\n",
    "\n",
    "plt.xlabel('Age Group ')\n",
    "\n",
    "plt.ylabel('Frequency')\n",
    "\n",
    "plt.show()"
   ]
  },
  {
   "cell_type": "code",
   "execution_count": null,
   "id": "3e5bb514",
   "metadata": {},
   "outputs": [],
   "source": [
    "customer_transactions.head()"
   ]
  },
  {
   "cell_type": "code",
   "execution_count": null,
   "id": "f048d8c0",
   "metadata": {},
   "outputs": [],
   "source": [
    "\n",
    "customer_transactions = pd.DataFrame(customer_transactions)\n",
    "\n",
    "# Create the 'Age Group' column\n",
    "age_bins = [20, 40, 60, 80, 100]  # Define age group boundaries\n",
    "age_labels = ['Youth', 'Adult', 'elderly', 'Aged']  # Define age group labels\n",
    "customer_transactions['Age Group'] = pd.cut(customer_transactions['Age'], bins=age_bins, labels=age_labels)\n",
    "\n",
    "# Create a cross-tabulation (contingency table) between 'Age Group' and 'Category'\n",
    "cross_tab = pd.crosstab(customer_transactions['Age Group'], customer_transactions['Category'])\n",
    "\n",
    "# Plot a bar chart to visualize the relationship\n",
    "cross_tab.plot(kind='bar')\n",
    "\n",
    "plt.xlabel('Age Group')\n",
    "\n",
    "plt.ylabel('Count')\n",
    "\n",
    "plt.title('Bivariate Analysis: Age Group vs. Category')\n",
    "\n",
    "plt.legend(title='Category')\n",
    "\n",
    "plt.show()\n"
   ]
  },
  {
   "cell_type": "code",
   "execution_count": null,
   "id": "a7d5cdfd",
   "metadata": {},
   "outputs": [],
   "source": []
  },
  {
   "cell_type": "code",
   "execution_count": null,
   "id": "4e69a617",
   "metadata": {},
   "outputs": [],
   "source": []
  },
  {
   "cell_type": "code",
   "execution_count": null,
   "id": "702e512c",
   "metadata": {},
   "outputs": [],
   "source": []
  },
  {
   "cell_type": "code",
   "execution_count": null,
   "id": "0d5f354a",
   "metadata": {},
   "outputs": [],
   "source": []
  },
  {
   "cell_type": "code",
   "execution_count": null,
   "id": "45d44f9d",
   "metadata": {},
   "outputs": [],
   "source": []
  },
  {
   "cell_type": "code",
   "execution_count": null,
   "id": "1ac15113",
   "metadata": {},
   "outputs": [],
   "source": []
  },
  {
   "cell_type": "code",
   "execution_count": null,
   "id": "6558f903",
   "metadata": {},
   "outputs": [],
   "source": []
  },
  {
   "cell_type": "code",
   "execution_count": null,
   "id": "329e1a0f",
   "metadata": {},
   "outputs": [],
   "source": []
  },
  {
   "cell_type": "markdown",
   "id": "695b7203",
   "metadata": {},
   "source": [
    "#### QUESTION SIX\n",
    "\n",
    "###### - Which date had the highest transactions.\n"
   ]
  },
  {
   "cell_type": "code",
   "execution_count": null,
   "id": "0d904680",
   "metadata": {},
   "outputs": [],
   "source": [
    "customer_transactions['Date'] = pd.to_datetime(customer_transactions['Date'])"
   ]
  },
  {
   "cell_type": "code",
   "execution_count": null,
   "id": "91bebd7c",
   "metadata": {},
   "outputs": [],
   "source": [
    "customer_transactions.set_index('Date', inplace=True)"
   ]
  },
  {
   "cell_type": "code",
   "execution_count": null,
   "id": "131b6ce8",
   "metadata": {},
   "outputs": [],
   "source": [
    "date_min = customer_transactions['Date'].min()\n",
    "date_max = customer_transactions['Date'].max()"
   ]
  },
  {
   "cell_type": "code",
   "execution_count": null,
   "id": "6a41756e",
   "metadata": {},
   "outputs": [],
   "source": [
    "print(f\"Start Date: {date_min}\")\n",
    "print(f\"End Date: {date_max}\")"
   ]
  },
  {
   "cell_type": "code",
   "execution_count": null,
   "id": "c265000f",
   "metadata": {},
   "outputs": [],
   "source": [
    "resampled_data = customer_transactions.resample('D').sum()"
   ]
  },
  {
   "cell_type": "code",
   "execution_count": null,
   "id": "ad639827",
   "metadata": {},
   "outputs": [],
   "source": [
    "plt.figure(figsize=(12, 6))\n",
    "plt.plot(resampled_data.index, resampled_data['Transaction Amount'], marker='o')\n",
    "plt.title('Transaction Activity Over Time')\n",
    "plt.xlabel('Date')\n",
    "plt.ylabel('Transaction Amount')\n",
    "plt.grid(True)\n",
    "plt.show()"
   ]
  },
  {
   "cell_type": "code",
   "execution_count": null,
   "id": "5f1fac9b",
   "metadata": {},
   "outputs": [],
   "source": [
    "max_transaction_date = resampled_data.idxmax()\n",
    "max_transaction_count = resampled_data.max()\n",
    "\n",
    "print(\"Date with the highest transaction count:\", max_transaction_date['TransactionCount'])\n",
    "print(\"Highest transaction count:\", max_transaction_count['TransactionCount'])\n"
   ]
  },
  {
   "cell_type": "code",
   "execution_count": null,
   "id": "3e20de36",
   "metadata": {},
   "outputs": [],
   "source": []
  },
  {
   "cell_type": "code",
   "execution_count": null,
   "id": "c7994076",
   "metadata": {},
   "outputs": [],
   "source": []
  },
  {
   "cell_type": "code",
   "execution_count": null,
   "id": "fff86973",
   "metadata": {},
   "outputs": [],
   "source": []
  },
  {
   "cell_type": "code",
   "execution_count": null,
   "id": "c86c4f0a",
   "metadata": {},
   "outputs": [],
   "source": []
  },
  {
   "cell_type": "code",
   "execution_count": null,
   "id": "9241e82e",
   "metadata": {},
   "outputs": [],
   "source": [
    "#ax = sns.countplot(customer_transactions, x='Gender')\n",
    "\n",
    "#for bars in ax.containers:\n",
    "    \n",
    "      #ax.bar_label(bars)\n",
    "        \n",
    "#plt.title('Distribution of Gender')\n",
    "\n",
    "#plt.ylabel('Gender Count')\n",
    "\n",
    "#plt.show()"
   ]
  },
  {
   "cell_type": "code",
   "execution_count": null,
   "id": "51f47a05",
   "metadata": {},
   "outputs": [],
   "source": [
    "#gender_counts = customer_transactions['Gender'].value_counts()\n",
    "\n",
    "# Create a pie chart\n",
    "#plt.figure(figsize=(6, 6))\n",
    "#plt.pie(gender_counts, labels=gender_counts.index, autopct='%1.1f%%', startangle=90)\n",
    "\n",
    "# Add a title and legend\n",
    "#plt.title('Percentage of Gender Column')\n",
    "#plt.legend(gender_counts.index, loc='upper right', bbox_to_anchor=(1.2, 1))\n",
    "\n",
    "# Show the pie chart\n",
    "#plt.axis('equal')  # Equal aspect ratio ensures that pie is drawn as a circle.\n",
    "#plt.show()"
   ]
  },
  {
   "cell_type": "code",
   "execution_count": null,
   "id": "76346cbb",
   "metadata": {},
   "outputs": [],
   "source": []
  },
  {
   "cell_type": "code",
   "execution_count": null,
   "id": "ef9f30ea",
   "metadata": {},
   "outputs": [],
   "source": []
  },
  {
   "cell_type": "code",
   "execution_count": null,
   "id": "7e14ccdb",
   "metadata": {},
   "outputs": [],
   "source": []
  },
  {
   "cell_type": "code",
   "execution_count": null,
   "id": "2e6c0e99",
   "metadata": {},
   "outputs": [],
   "source": []
  },
  {
   "cell_type": "code",
   "execution_count": null,
   "id": "f46e425e",
   "metadata": {},
   "outputs": [],
   "source": []
  },
  {
   "cell_type": "code",
   "execution_count": null,
   "id": "01818963",
   "metadata": {},
   "outputs": [],
   "source": []
  },
  {
   "cell_type": "code",
   "execution_count": null,
   "id": "586a9636",
   "metadata": {},
   "outputs": [],
   "source": []
  },
  {
   "cell_type": "code",
   "execution_count": null,
   "id": "a3ea0178",
   "metadata": {},
   "outputs": [],
   "source": []
  },
  {
   "cell_type": "code",
   "execution_count": null,
   "id": "fa4163e5",
   "metadata": {},
   "outputs": [],
   "source": []
  },
  {
   "cell_type": "code",
   "execution_count": null,
   "id": "8d639d3e",
   "metadata": {},
   "outputs": [],
   "source": [
    "customer_transactions = pd.DataFrame(customer_transactions)\n",
    "\n",
    "# Convert the 'Date of Birth' column to datetime\n",
    "customer_transactions['Date of Birth'] = pd.to_datetime(customer_transactions['Date of Birth'])\n",
    "\n",
    "# Calculate age based on the current date\n",
    "current_date = datetime.now()\n",
    "customer_transactions['Age'] = (current_date - customer_transactions['Date of Birth']) // pd.Timedelta(days=365)\n",
    "\n",
    "customer_transactions"
   ]
  },
  {
   "cell_type": "markdown",
   "id": "7040da81",
   "metadata": {},
   "source": []
  },
  {
   "cell_type": "code",
   "execution_count": null,
   "id": "b47b6f4a",
   "metadata": {},
   "outputs": [],
   "source": [
    "# Define age bins and labels\n",
    "age_bins = [20, 25, 30, 35, 40, 45, 50, 55, 60, 65, 70, 75, 80, 85, 90, 100]\n",
    "\n",
    "age_labels = ['21-25', '26-30', '31-35', '36-40', '41-45', '46-50', '51-55', '56-60', '61-65', '66-70', '71-75', '76-80', '81-85', '86-90', '91-95']\n",
    "\n",
    "# Apply age grouping\n",
    "customer_transactions['AgeGroup'] = pd.cut(customer_transactions['Age'], bins=age_bins, labels=age_labels, right=False)\n",
    "\n",
    "# Histogram\n",
    "plt.figure(figsize=(10, 8))\n",
    "\n",
    "sns.histplot(data=customer_transactions, x='AgeGroup', kde=True)\n",
    "\n",
    "plt.title('Age Distribution')\n",
    "\n",
    "plt.xlabel('Age Group')\n",
    "\n",
    "plt.ylabel('Frequency')\n",
    "\n",
    "plt.show()"
   ]
  },
  {
   "cell_type": "code",
   "execution_count": null,
   "id": "c180594b",
   "metadata": {},
   "outputs": [],
   "source": []
  },
  {
   "cell_type": "code",
   "execution_count": null,
   "id": "7d868e45",
   "metadata": {},
   "outputs": [],
   "source": []
  },
  {
   "cell_type": "code",
   "execution_count": null,
   "id": "ae487fce",
   "metadata": {},
   "outputs": [],
   "source": [
    "# Convert 'Birthdate' to datetime\n",
    "#customer_transactions['Date of Birth'] = pd.to_datetime(customer_transactions['Date of Birth'])\n",
    "\n",
    "# Calculate age\n",
    "#current_date = pd.Timestamp.now()\n",
    "\n",
    "#customer_transactions['Age'] = (current_date - customer_transactions['Date of Birth']).dt.days // 365  # Calculate age in years\n",
    "\n",
    "# Define age bins and labels\n",
    "#age_bins = [20, 25, 30, 35, 40, 45, 50, 55, 60, 65, 70, 75, 80, 85, 90, 100]\n",
    "\n",
    "#age_labels = ['21-25', '26-30', '31-35', '36-40', '41-45', '46-50', '51-55', '56-60', '61-65', '66-70', '71-75', '76-80', '81-85', '86-90', '91-95']\n",
    "\n",
    "# Apply age grouping\n",
    "#customer_transactions['AgeGroup'] = pd.cut(customer_transactions['Age'], bins=age_bins, labels=age_labels, right=False)\n",
    "\n",
    "# Histogram\n",
    "#plt.figure(figsize=(10, 8))\n",
    "\n",
    "#sns.histplot(data=customer_transactions, x='AgeGroup', kde=True)\n",
    "\n",
    "#plt.title('Age Distribution')\n",
    "\n",
    "#plt.xlabel('Age Group')\n",
    "\n",
    "#plt.ylabel('Frequency')\n",
    "\n",
    "#plt.show()"
   ]
  },
  {
   "cell_type": "code",
   "execution_count": null,
   "id": "e07c4967",
   "metadata": {},
   "outputs": [],
   "source": [
    "cross_tab = pd.crosstab(customer_transactions['Category'], customer_transactions['Age'])\n",
    "\n",
    "# Create a heatmap to visualize the cross-tabulation\n",
    "plt.figure(figsize=(15, 8))\n",
    "\n",
    "sns.heatmap(cross_tab, annot=True, fmt='d', cmap='YlGnBu', cbar=True)\n",
    "\n",
    "plt.title('Bivariate Analysis: Age Group vs. Category')\n",
    "\n",
    "plt.xlabel('Category')\n",
    "\n",
    "plt.ylabel('Age Group')\n",
    "\n",
    "plt.show()"
   ]
  },
  {
   "cell_type": "code",
   "execution_count": null,
   "id": "5948522a",
   "metadata": {},
   "outputs": [],
   "source": []
  },
  {
   "cell_type": "code",
   "execution_count": null,
   "id": "c6cb641d",
   "metadata": {},
   "outputs": [],
   "source": []
  },
  {
   "cell_type": "code",
   "execution_count": null,
   "id": "072d07f9",
   "metadata": {},
   "outputs": [],
   "source": []
  },
  {
   "cell_type": "code",
   "execution_count": null,
   "id": "2e5edf33",
   "metadata": {},
   "outputs": [],
   "source": []
  },
  {
   "cell_type": "code",
   "execution_count": null,
   "id": "0df81682",
   "metadata": {},
   "outputs": [],
   "source": []
  },
  {
   "cell_type": "code",
   "execution_count": null,
   "id": "c768b068",
   "metadata": {},
   "outputs": [],
   "source": []
  },
  {
   "cell_type": "code",
   "execution_count": null,
   "id": "52e7fbea",
   "metadata": {},
   "outputs": [],
   "source": []
  }
 ],
 "metadata": {
  "kernelspec": {
   "display_name": "Python 3 (ipykernel)",
   "language": "python",
   "name": "python3"
  },
  "language_info": {
   "codemirror_mode": {
    "name": "ipython",
    "version": 3
   },
   "file_extension": ".py",
   "mimetype": "text/x-python",
   "name": "python",
   "nbconvert_exporter": "python",
   "pygments_lexer": "ipython3",
   "version": "3.11.1"
  }
 },
 "nbformat": 4,
 "nbformat_minor": 5
}
